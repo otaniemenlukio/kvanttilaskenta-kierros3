{
 "cells": [
  {
   "attachments": {},
   "cell_type": "markdown",
   "metadata": {},
   "source": [
    "\n",
    "# Kierros 3 - Usean kubitin kvanttisysteemi\n",
    "\n",
    "Palautus KE 22.3.2023 klo 16.15.\n",
    "\n",
    "$$\\def\\ket{}\\renewcommand{\\ket}[1]{\\left|{#1}\\right\\rangle}$$\n",
    "$$\\def\\bra{}\\renewcommand{\\bra}[1]{\\left\\langle{#1}\\right|}$$\n",
    "$$\\def\\blue{}\\renewcommand{\\blue}[1]{{\\color{##3daff1}#1}}$$\n",
    "$$\\def\\red{}\\renewcommand{\\red}[1]{{\\color{##eb495e}#1}}$$\n",
    "$$\\def\\yellow{}\\renewcommand{\\yellow}[1]{{\\color{##a2b70a}#1}}$$\n",
    "$$\\def\\purple{}\\renewcommand{\\purple}[1]{{\\color{##7a44e2}#1}}$$\n",
    "$$\\def\\ketzero{\\begin{bmatrix}1 \\\\ 0\\end{bmatrix}}$$\n",
    "$$\\def\\ketone{\\begin{bmatrix}0 \\\\ 1\\end{bmatrix}}$$\n",
    "$$\\def\\Plus{\\texttt{+}}$$\n",
    "$$\\def\\Minus{\\texttt{-}}$$\n",
    "$$\\def\\A{\\mathbf{A}}$$\n",
    "$$\\def\\B{\\mathbf{B}}$$\n",
    "$$\\def\\C{\\mathbf{C}}$$\n",
    "$$\\def\\D{\\mathbf{D}}$$\n",
    "$$\\def\\I{\\mathbf{I}}$$\n",
    "$$\\def\\X{\\mathbf{X}}$$\n",
    "$$\\def\\Y{\\mathbf{Y}}$$\n",
    "$$\\def\\Z{\\mathbf{Z}}$$\n",
    "\n",
    "\n",
    "## Sisältö\n",
    "\n",
    "TODO"
   ]
  },
  {
   "cell_type": "code",
   "execution_count": 50,
   "metadata": {},
   "outputs": [],
   "source": [
    "import matplotlib as mpl\n",
    "import matplotlib.pyplot as plt\n",
    "import numpy as np\n",
    "from qiskit import *\n",
    "from qiskit.tools.visualization import plot_histogram\n",
    "from qiskit.visualization import array_to_latex\n",
    "from IPython.display import Math\n",
    "\n",
    "plt.style.use('dark_background')\n",
    "style = {\n",
    "    \"backgroundcolor\": \"#00000000\",\n",
    "    \"textcolor\": \"#FFFFFFFF\",\n",
    "    \"linecolor\": \"#FFFFFFFF\",\n",
    "    \"gatetextcolor\": \"#FFFFFFFF\",\n",
    "    \"barrierfacecolor\": \"#44444444\",\n",
    "}\n",
    "\n",
    "# jos tarvitset vaalean väriteeman niin poista # kommenttimerkit seuraavilta riveiltä\n",
    "# mpl.rcParams.update(mpl.rcParamsDefault)\n",
    "# style = None"
   ]
  },
  {
   "cell_type": "markdown",
   "metadata": {},
   "source": [
    "## Usean kubitin piiri\n",
    "\n",
    "Tähän mennessä olemme käsitelleet ainoastaan yksittäisen kubitin operaattoreita ja piirejä. Seuraavaksi tutustumme usean kubitin järjestelmiin ja kvanttipiireihin.\n",
    "\n",
    "<img src=\"./images/bell.png\" height=\"256px\">"
   ]
  },
  {
   "cell_type": "markdown",
   "metadata": {},
   "source": [
    "## Usean kubitin kantatilat\n",
    "\n",
    "Yhden kubitin laskennalliset kantatilat ovat $\\ket 0$ ja $\\ket 1$. Usean kubitin järjestelmän laskennalliset kantatilat voidaan esittää _bittijonona_. Bittijono koostuu biteistä, eli merkeistä `0` ja `1`. Bittijonon pituus kertoo kuinka monen kubitin systeemi on kyseessä.\n",
    "\n",
    "Kahden kubitin laskennalliset kantatilat vastaavat kaikkia kahden pitkiä bittijonoja ketin sisällä:\n",
    "\n",
    "$$\n",
    "\\ket{00} \\\\\n",
    "\\ket{01} \\\\\n",
    "\\ket{10} \\\\\n",
    "\\ket{11}\n",
    "$$\n",
    "\n",
    "Koska kantatilojen tulee muodostaa ortonormaali kanta, voimme päätellä, että neljä kantavektoria virittävät neliulotteisen vektoriavaruuden. Kuinka monta ulottuvuutta on 3 kubitin tilavektorien vektoriavaruudessa?\n",
    "\n",
    "$N$ pituisia bittijonoja on $2^N$ erilaista, joten 3 kubitin kantatiloja on 8. Kantatilojen lukumääriä eli vektoriavaruuksien ulottuvuuksia voidaan lukea seuraavasta taulukosta. \n",
    "\n",
    "$$\n",
    "\\begin{array}{rl}\n",
    "\\text{Kubittien määrä} & \\text{Avaruuden ulottuvuus} \\\\\n",
    "\\hline\n",
    "1 & 2 \\\\\n",
    "2 & 4 \\\\\n",
    "3 & 8 \\\\\n",
    "4 & 16 \\\\\n",
    "25 & 33554432 \\\\\n",
    "100 & 1267650600228229401496703205376\n",
    "\\end{array}\n",
    "$$\n",
    "\n",
    "Yhden kubitin lisääminen siis tuplaa vektoriavaruuden ulottuvuuden.\n",
    "\n",
    "### Usean kubitin kantavektorit\n",
    "\n",
    "Kahden kubitin kantatilat ovat vektoriesityksiltään seuraavat:\n",
    "\n",
    "$$\n",
    "\\begin{array}{cccc}\n",
    "\\ket{00}=\\begin{bmatrix}1 \\\\ 0 \\\\ 0 \\\\0\\end{bmatrix} &\n",
    "\\ket{01}=\\begin{bmatrix}0 \\\\ 1 \\\\ 0 \\\\0\\end{bmatrix} &\n",
    "\\ket{10}=\\begin{bmatrix}0 \\\\ 0 \\\\ 1 \\\\0\\end{bmatrix} &\n",
    "\\ket{11}=\\begin{bmatrix}0 \\\\ 0 \\\\ 0 \\\\1\\end{bmatrix}\n",
    "\\end{array}\n",
    "$$\n",
    "\n",
    "On syytä huomioida, että $\\ket 0 \\ne \\ket{00}$, koska vektorien ulottuvuudet ovat erisuuret. Opimme kohta, miten usean kubitin tilavektori voidaan muodostaa yksittäisten kubittien tilavektoreista _tensoritulolla_.\n",
    "\n",
    "## Mittaus usean kubitin piirissä\n",
    "\n",
    "Kuten edellisellä kierroksella opimme, todennäköisyys, jolla kubitti $\\ket \\psi$ havaitaan tilassa $\\ket x$ on:\n",
    "\n",
    "$$\n",
    "P(\\ket x) = \\left|\\braket{x | \\psi}\\right|^2\n",
    "$$\n",
    "\n",
    "Sama kaava toimii usean kubitin tilavektoreilla. Esimerkiksi todennäköisyys havaita tila $\\ket{00}$ tilassa $\\ket{01}$ on\n",
    "\n",
    "$$\n",
    "\\begin{array}{rlllll}\n",
    "P(\\ket{01}) &=& \\left|\\braket{00 | 01}\\right|^2 \\\\\n",
    "&=& \\left|\\begin{bmatrix}1 & 0 & 0 & 0\\end{bmatrix}\\begin{bmatrix}0 \\\\ 1 \\\\ 0 \\\\ 0\\end{bmatrix}\\right|^2 \\\\\n",
    "&=& 0\n",
    "\\end{array}\n",
    "$$\n",
    "\n",
    "Sama tulos saataisiin laskemalla yksittäisten todennäköisyyksien tulo, joka vastaa todennäköisyyttä että toisistaan riippumattomat tapahtumat tapahtuvat. Kutsutaan ensimmäistä kubittia systeemiksi $A$ ja toista kubittia systeemiksi $B$. Molemmat systeemit ovat tilassa $\\ket 0$. Todennäköisyys siis havaita yhdistelmäjärjestelmä $AB$ tilassa $\\ket{01}$ on:\n",
    "\n",
    "$$\n",
    "\\begin{array}{rlllll}\n",
    "P_{AB}(\\ket{01}) &=& P_A(\\ket 0) \\cdot P_B(\\ket 1) \\\\\n",
    "&=& 1 \\cdot 0\n",
    "\\end{array}\n",
    "$$\n",
    "\n",
    "Tätä kaavaa ei voi käyttää jos järjestelmät olisivat toisistaan riippuvia eli lomittuneita, koska yksittäisiä kubitteja ei voi enää esittää tilavektoreilla. Tämä on tärkeä ero klassisen ja kvanttimekaniikan välillä.\n",
    "\n",
    "TODO linkki tehtävään\n",
    "\n",
    "### Klassinen rekisteri\n",
    "\n",
    "Kvanttipiirissä suoritetut mittaukset tallennetaan aina _klassiseen rekisteriin_. Klassinen rekisteri piirretään kahdella rinnakkaisella viivalla. Klassiseen rekisteriin yleensä varataan tilaa yhtä monelle bitille kuin piirissä on mittauksia.\n",
    "\n",
    "Klassisen rekisterin koko näkyy sen alkupäässä. Esimerkiksi 3 bitin klassinen rekisteri näyttää seuraavalta:\n",
    "\n",
    "![creg](./images/creg.png)\n",
    "\n",
    "Kuten opimme 2. kierroksella, voimme määrätä klassisen rekisterin koon samalla kun luomme kvanttipiirin Qiskitillä:\n",
    "\n",
    "```python\n",
    "circuit = QuantumCircuit(3, 3) # 3 kubittia, 3 bitin klassinen rekisteri\n",
    "```\n",
    "\n",
    "Voimme lisätä mittaukset piiriin kaikille kubiteille käyttämällä metodia `measure_all()`:\n",
    "\n",
    "```python\n",
    "# kvanttipiirin lopuksi\n",
    "circuit.measure_all(add_bits=False)\n",
    "```\n",
    "\n",
    "> Argumentti `add_bits=False` käyttää aikaisemmin luotua klassista rekisteriä. Muuten `measure_all` loisi uuden klassisen rekisterin. Huomaa myös, että `measure_all` lisää harmaan visuaalisen erottimen ennen mittauksia.\n",
    "\n",
    "Mittaustulos tallennetaan klassisen rekisterin bittijonoon oikealta vasemmalle, eli klassisen rekisterin indeksi `0` vastaa viimeistä bittijonon bittiä:\n",
    "\n",
    "<img src=\"./images/measreg.png\" height=\"384px\">\n",
    "\n",
    "Jos bittijonoa ajatellaan lukuna binääriesityksessä, pienempi indeksi vastaa pienempää merkitsevää numeroa.\n",
    "\n",
    "## Lomittumaton piiri\n",
    "\n",
    "Seuraavassa kvanttipiirissä on kolme kubittia, jotka kaikki pyöritetään $\\ket \\Plus$ tilaan Hadamard-porteilla. Intuition mukaan kyseisen piirin kubittien mittaukset ovat toisistaan riippumattomia tapahtumia, koska kubitit eivät vuorovaikuta keskenään — piirissä ei siis esiinny **lomittumista**. Miltä näyttäisi mittaustulosten todennäköisyysjakauma?"
   ]
  },
  {
   "cell_type": "code",
   "execution_count": 42,
   "metadata": {},
   "outputs": [
    {
     "data": {
      "image/png": "[encoded data removed]",
      "text/plain": [
       "<Figure size 1076.66x735.778 with 1 Axes>"
      ]
     },
     "metadata": {},
     "output_type": "display_data"
    },
    {
     "data": {
      "image/png": "[encoded data removed]",
      "text/plain": [
       "<Figure size 700x500 with 1 Axes>"
      ]
     },
     "execution_count": 42,
     "metadata": {},
     "output_type": "execute_result"
    }
   ],
   "source": [
    "circuit = QuantumCircuit(3, 3) # 3 kubittia, 3 bitin klassinen rekisteri\n",
    "\n",
    "circuit.h([0, 1, 2]) # operoidaan Hadamardilla kaikkiin kubitteihin\n",
    "\n",
    "circuit.measure_all(add_bits=False)\n",
    "display(circuit.draw(output='mpl', scale=2, style=style))\n",
    "\n",
    "simulator = Aer.get_backend('qasm_simulator')\n",
    "result = execute(circuit, backend=simulator).result()\n",
    "plot_histogram(result.get_counts(circuit))"
   ]
  },
  {
   "cell_type": "markdown",
   "metadata": {},
   "source": [
    "Yllä olevan koodin piirtämät mittaustulokset muodostavat tasaisen todennäköisyysjakauman (laskennallisessa mittauskannassa). Jokainen pylväs vastaa eri kollektiivista mittaustulosta. Mittaustulos `100` tarkoittaa, että kubitti $q_2$ (alin) havaittiin tilassa $\\ket 1$ ja muut tilassa $\\ket 0$.\n",
    "\n",
    "Voimme myös huomata, että yhden kubitin mittauksesta ei voi päätellä toisten kubittien mittaustuloksista (tai ylipäätään kubittien tilasta) mitään.\n",
    "\n",
    "<img src=\"./images/results1.png\" height=\"512px\">\n",
    "<img src=\"./images/results2.png\" height=\"512px\">\n",
    "\n",
    "Kuvasta näkee, että kubitin $q_2$ mittauksesta saatu tulos (isolla) ei korreloi kubittien $q_0$ ja $q_1$ mittaustulosten kanssa, vaan todennäköisyysjakaumat ovat samat (vaihtelu johtuu satunnaisuuskohinasta). Intuitio riippumattomuudesta siis piti paikkansa.\n",
    "\n",
    "Jotta voimme laskea todennäköisyyden, jolla kyseinen tila $\\ket{\\Plus\\Plus\\Plus}$ havaitaan tilassa $\\ket{000}$, pitää meidän esittää tila ensiksi kantavektoktorien lineaarikombinaationa.\n",
    "\n",
    "Koska jokainen tulos on yhtä todennäköinen, ovat amplitudien itseisarvojen oltava yhtäsuuret. Tiedämme myös, että 8 mittaustulosten todennäköisyyksien summa on 1, joten voimme laskea yksittäisen kantatilan amplitudin seuraavasti:\n",
    "\n",
    "$$\n",
    "\\begin{array}{rlllll}\n",
    "8\\cdot|\\alpha|^2 &=& 1 \\\\\n",
    "|\\alpha| &=& \\sqrt{\\frac 1 8}\n",
    "\\end{array}\n",
    "$$\n",
    "\n",
    "Tila $\\ket{\\Plus\\Plus\\Plus}$ voi esittää kantatilojen lineaarikombinaationa:\n",
    "\n",
    "$$\n",
    "\\ket{\\Plus\\Plus\\Plus} = \\sqrt{\\frac 1 8}\\left(\\ket{000}+\\ket{001}+\\ket{010}+\\ket{011}+\\ket{100}+\\ket{101}+\\ket{110}+\\ket{111}\\right)\n",
    "$$\n",
    "\n",
    "> Emme vielä käsittele amplitudien _kompleksista vaihetta_, mutta on hyvä tietää, että amplitudit voisivat yhtä hyvin olla negatiivisia vastalukujaan. Mittaustuloksista ei voi saada tietoa kompleksisesta vaiheesta, joten tila voisi yhtä hyvin olla $\\ket{\\Plus\\Minus\\Minus}$.\n",
    "\n",
    "Voimme nyt laskea todennäköisyyden havaita tila $\\ket \\psi = \\ket{\\Plus\\Plus\\Plus}$ tilassa $\\ket{000}$:\n",
    "\n",
    "$$\n",
    "\\begin{array}{rlllll}\n",
    "P(\\ket x) &=& \\left|\\braket{x | \\psi}\\right|^2 \\\\\n",
    "P(\\ket{000}) &=& \\left|\\braket{000 | \\Plus\\Plus\\Plus}\\right|^2 \\\\\n",
    "&=& \\left|\\bra{000}\\cdot\\sqrt{\\frac 1 8}\\left(\\ket{000}+\\ket{001}+\\ket{010}+\\ket{011}+\\ket{100}+\\ket{101}+\\ket{110}+\\ket{111}\\right)\\right|^2 \\\\\n",
    "&=& \\left|\\sqrt{\\frac 1 8}\\left(\\braket{000 | 000}+\\cancel{\\braket{000 | 001}}+\\cancel{\\braket{000 | 010}}+\\cancel{\\braket{000 | 011}}+\\cancel{\\braket{000 | 100}}+\\cancel{\\braket{000 | 101}}+\\cancel{\\braket{000 | 110}}+\\cancel{\\braket{000 | 111}}\\right)\\right|^2 \\\\\n",
    "&=& \\frac 1 8\n",
    "\\end{array}\n",
    "$$\n",
    "\n",
    "Tätä laskennallisten kantatilojen tasaista superpositiota $\\ket{\\Plus\\mathellipsis\\Plus}$ käytetään paljon kvanttialgoritmeissä."
   ]
  },
  {
   "cell_type": "markdown",
   "metadata": {},
   "source": [
    "## Tensoritulo\n",
    "\n",
    "Tensoritulo on abstrakti matemaattinen operaattori, joka kuvaa kaksi vektoriavaruutta yhdeksi isoksi vektoriavaruudeksi. Toisin kuin matriisitulo, tensoritulo voidaan ottaa eriulotteisista matriiseista. Matriisien tensorituloa kutsutaan myös nimellä Kroneckerin tulo. \n",
    "\n",
    "> Teknisesti ottaen tensoritulo on yleisempi kuin Kroneckerin tulo, mutta käytämme tällä kurssilla vain termiä tensoritulo.\n",
    "\n",
    "Tensoritulo voidaan laskea kahdesta matriisista $\\A$ ja $\\B$ _lohkomatriisiesityksellä_ seuraavasti:\n",
    "\n",
    "$$\n",
    "\\A \\otimes \\B ={\\begin{bmatrix}\\A_{11}\\B &\\cdots &\\A_{1n}\\B \\\\\\vdots &\\ddots &\\vdots \\\\\\A_{m1}\\B &\\cdots &\\A_{mn}\\B \\end{bmatrix}},\\\\[1em]\n",
    "\\A \\in \\mathbb{C}^{m×n}, \\B \\in \\mathbb{C}^{p×q}, \\A \\otimes \\B \\in \\mathbb{C}^{pm×qn}\n",
    "$$\n",
    "\n",
    "Jos kyseessä on siis kaksi 2-ulotteista matriisia ($\\mathbb{C}^{2×2}$), niin niiden tensoritulo on neliulotteinen matriisi ($\\mathbb{C}^{4×4}$):\n",
    "\n",
    "$$\n",
    "{\\begin{bmatrix}\n",
    "1 & 2 \\\\\n",
    "3 & 4 \\\\\n",
    "\\end{bmatrix}} \\otimes {\\begin{bmatrix}\n",
    "0 & 5 \\\\\n",
    "6 & 7 \\\\\n",
    "\\end{bmatrix}}\n",
    "={\\begin{bmatrix} 1 {\\begin{bmatrix}\n",
    "0 & 5 \\\\\n",
    "6 & 7 \\\\\n",
    "\\end{bmatrix}} & 2 {\\begin{bmatrix}\n",
    "0 & 5 \\\\\n",
    "6 & 7 \\\\\n",
    "\\end{bmatrix}} \\\\\n",
    "3{\\begin{bmatrix}\n",
    "0 & 5 \\\\\n",
    "6 & 7 \\\\\n",
    "\\end{bmatrix}} & 4 {\\begin{bmatrix}\n",
    "0 & 5 \\\\\n",
    "6 & 7 \\\\\n",
    "\\end{bmatrix}} \\\\\n",
    "\\end{bmatrix}}\n",
    "={\\begin{bmatrix}\n",
    "1\\cdot 0 & 1\\cdot 5 & 2\\cdot 0 & 2\\cdot 5 \\\\\n",
    "1\\cdot 6 & 1\\cdot 7 & 2\\cdot 6 & 2\\cdot 7 \\\\\n",
    "3\\cdot 0 & 3\\cdot 5 & 4\\cdot 0 & 4\\cdot 5 \\\\\n",
    "3\\cdot 6 & 3\\cdot 7 & 4\\cdot 6 & 4\\cdot 7 \\\\\n",
    "\\end{bmatrix}}\n",
    "={\\begin{bmatrix}\n",
    "0 & 5 & 0 & 10 \\\\\n",
    "6 & 7 & 12 & 14 \\\\\n",
    "0 & 15 & 0 & 20 \\\\\n",
    "18 & 21 & 24 & 28\n",
    "\\end{bmatrix}}\n",
    "$$\n",
    "\n",
    "> [Lue lisää lohkomatriiseista](https://en.wikipedia.org/wiki/Block_matrix) tai [Kroneckerin tulosta](https://en.wikipedia.org/wiki/Kronecker_product).\n",
    "\n",
    "### Kvanttitilojen tensorointi\n",
    "\n",
    "Kvanttimekaniikassa pystymme ilmaisemaan monta järjestelmää yhtenä järjestelmänä tensoroimalla järjestelmien tilat. Esimerkiksi kolme kubittia kaikki tilassa $\\ket \\Plus$ voidaan esittää yhtenä tilavektorina seuraavasti:\n",
    "\n",
    "$$\n",
    "\\begin{array}{rrrrrrr}\n",
    "\\ket{\\Plus\\Plus\\Plus} =& \\ket \\Plus & \\otimes & \\ket \\Plus & \\otimes & \\ket \\Plus \\\\[1em]\n",
    "=& \\frac 1 {\\sqrt 2} \\blue{\\begin{bmatrix}1 \\\\ 1\\end{bmatrix}} & \n",
    "    \\otimes & \\frac 1 {\\sqrt 2} \\red{\\begin{bmatrix}1 \\\\ 1\\end{bmatrix}} &\n",
    "    \\otimes & \\frac 1 {\\sqrt 2} \\yellow{\\begin{bmatrix}1 \\\\ 1\\end{bmatrix}} \\\\[1em]\n",
    "=& \\frac 1 {2 \\sqrt 2} \\blue{\\begin{bmatrix}1 \\\\ 1\\end{bmatrix}} &\n",
    "    \\otimes & \\red{\\begin{bmatrix}1 \\\\ 1\\end{bmatrix}} &\n",
    "    \\otimes & \\yellow{\\begin{bmatrix}1 \\\\ 1\\end{bmatrix}} \\\\[1em]\n",
    "=& \\frac 1 {2 \\sqrt 2} \\purple{\\begin{bmatrix}1 \\\\ 1 \\\\ 1 \\\\ 1 \\end{bmatrix}} &\n",
    "    \\otimes & \\yellow{\\begin{bmatrix}1 \\\\ 1\\end{bmatrix}} \\\\[1em]\n",
    "=& \\frac 1 {2 \\sqrt 2} \\begin{bmatrix}1 \\\\ 1 \\\\ 1 \\\\ 1 \\\\ 1 \\\\ 1 \\\\ 1 \\\\ 1 \\end{bmatrix} \\\\[1em]\n",
    "\\end{array}\n",
    "$$\n",
    "\n",
    "> Tensoritulo lasketaan laskujärjestyksessä summan ja tulon välissä. Kuten matriisitulossa, tensoritulossa laskujärjestyksellä ei ole väliä, joten sulkuja ei tarvita.\n",
    "\n",
    "Tilavektorista voidaankin jo suoraan nähdä että jokaisen kantatilan amplitudi on sama.\n",
    "\n",
    "### Notaatioista\n",
    "\n",
    "Kvanttitilojen tensoroinnille määritellään seuraavat notaatiot nopeuttamaan kirjoittamista:\n",
    "\n",
    "$$\n",
    "\\begin{array}{rllllll}\n",
    "\\ket a \\otimes \\ket b &=& \\ket a \\ket b &=& \\ket{ab}\n",
    "\\end{array}\n",
    "$$\n",
    "\n",
    "Tilat $\\ket a$ ja $\\ket b$ voivat olla myös eriulotteisia, esimerkiksi:\n",
    "\n",
    "$$\n",
    "\\ket{01} \\otimes \\ket\\Plus = \\ket{01\\Plus}\n",
    "$$\n",
    "\n",
    "## Tensoritulo Pythonissa\n",
    "\n",
    "Tensorituloja pystytään laskemaan Pythonissa käyttäen numpy-kirjaston `kron`-funktiota."
   ]
  },
  {
   "cell_type": "code",
   "execution_count": 52,
   "metadata": {},
   "outputs": [
    {
     "data": {
      "text/latex": [
       "$\\displaystyle \\ket{01+}$"
      ],
      "text/plain": [
       "<IPython.core.display.Math object>"
      ]
     },
     "metadata": {},
     "output_type": "display_data"
    },
    {
     "data": {
      "text/latex": [
       "$$\n",
       "\n",
       "\\begin{bmatrix}\n",
       "0  \\\\\n",
       " 0  \\\\\n",
       " \\frac{\\sqrt{2}}{2}  \\\\\n",
       " \\frac{\\sqrt{2}}{2}  \\\\\n",
       " 0  \\\\\n",
       " 0  \\\\\n",
       " 0  \\\\\n",
       " 0  \\\\\n",
       " \\end{bmatrix}\n",
       "$$"
      ],
      "text/plain": [
       "<IPython.core.display.Latex object>"
      ]
     },
     "metadata": {},
     "output_type": "display_data"
    },
    {
     "data": {
      "text/latex": [
       "$\\displaystyle \\ket{+++}$"
      ],
      "text/plain": [
       "<IPython.core.display.Math object>"
      ]
     },
     "metadata": {},
     "output_type": "display_data"
    },
    {
     "data": {
      "text/latex": [
       "$$\n",
       "\n",
       "\\begin{bmatrix}\n",
       "\\frac{\\sqrt{2}}{4}  \\\\\n",
       " \\frac{\\sqrt{2}}{4}  \\\\\n",
       " \\frac{\\sqrt{2}}{4}  \\\\\n",
       " \\frac{\\sqrt{2}}{4}  \\\\\n",
       " \\frac{\\sqrt{2}}{4}  \\\\\n",
       " \\frac{\\sqrt{2}}{4}  \\\\\n",
       " \\frac{\\sqrt{2}}{4}  \\\\\n",
       " \\frac{\\sqrt{2}}{4}  \\\\\n",
       " \\end{bmatrix}\n",
       "$$"
      ],
      "text/plain": [
       "<IPython.core.display.Latex object>"
      ]
     },
     "metadata": {},
     "output_type": "display_data"
    }
   ],
   "source": [
    "zero = np.matrix([[1], [0]])\n",
    "one = np.matrix([[0], [1]])\n",
    "plus = 1 / np.sqrt(2) * (zero + one)\n",
    "minus = 1 / np.sqrt(2) * (zero - one)\n",
    "\n",
    "display(Math(\"\\ket{01+}\"))\n",
    "psi = np.kron(np.kron(zero, one), plus)\n",
    "display(array_to_latex(psi))\n",
    "\n",
    "display(Math(\"\\ket{+++}\"))\n",
    "phi = np.kron(np.kron(plus, plus), plus)\n",
    "display(array_to_latex(phi))"
   ]
  },
  {
   "cell_type": "markdown",
   "metadata": {},
   "source": [
    "## $\\text{CNOT}$-portti ja lomittuminen\n",
    "\n",
    "## Bellin tilat"
   ]
  },
  {
   "cell_type": "markdown",
   "metadata": {},
   "source": [
    "## Kvanttipiirin unitaarinen matriisi"
   ]
  },
  {
   "cell_type": "markdown",
   "metadata": {},
   "source": [
    "## $\\text{SWAP}$\n",
    "\n",
    "<details>\n",
    "<summary>Fredkin portti eli ohjattu $SWAP$</summary>\n",
    "\n",
    "</details>"
   ]
  },
  {
   "cell_type": "markdown",
   "metadata": {},
   "source": [
    "## Kubitin vaihe\n",
    "\n",
    "## $\\text{CZ}$-portti"
   ]
  },
  {
   "cell_type": "markdown",
   "metadata": {},
   "source": [
    "<details>\n",
    "<summary>Mittaus projektiomatriiseilla</summary>\n",
    "</details>"
   ]
  }
 ],
 "metadata": {
  "kernelspec": {
   "display_name": "base",
   "language": "python",
   "name": "python3"
  },
  "language_info": {
   "codemirror_mode": {
    "name": "ipython",
    "version": 3
   },
   "file_extension": ".py",
   "mimetype": "text/x-python",
   "name": "python",
   "nbconvert_exporter": "python",
   "pygments_lexer": "ipython3",
   "version": "3.9.7"
  },
  "vscode": {
   "interpreter": {
    "hash": "a788fe5bb4624eda3efab07cda06d2e5c5ff2cfbcc89f130aea1d34af0864ad5"
   }
  }
 },
 "nbformat": 4,
 "nbformat_minor": 4
}

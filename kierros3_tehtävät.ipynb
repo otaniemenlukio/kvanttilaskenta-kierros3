{
 "cells": [
  {
   "attachments": {},
   "cell_type": "markdown",
   "id": "8ed8ce6e",
   "metadata": {},
   "source": [
    "## Tehtävä 1: toisistaan riippumattomat kubitit ja satunnaisluvun arvonta\n",
    "\n",
    "Kuvassa on esitetty kolmesta kubitista muodostuva kvanttipiiri.\n",
    "\n",
    "![kuva1](images/satunnaisluku.png)\n",
    "\n",
    "Kun jokaiseen yksittäiseen kubittiin q operoidaan Hadamard-portilla eli H-portilla, asettuvat kubitit toisistaan riippumatta tilojen 0 ja 1 superpositioon:\n",
    "\n",
    "$$ \\ket \\psi = \\frac{1}{\\sqrt{2}}\\ket 0+\\frac{1}{\\sqrt{2}}\\ket 1 $$\n",
    "\n",
    "Kun yksittäisen kubitin tila mitataan ja mittaustulos tallennetaan klassiseen rekisteriin (nuoli kuvassa), on molempien mahdollisten mittaustulosten 0 ja 1 todennäköisyys sama:\n",
    "\n",
    "$$\n",
    "P(0)=P(1)=(\\frac{1}{\\sqrt{2}})^2=0.5\n",
    "$$.\n",
    "\n",
    "Koska jokaisella kolmella kubitilla on kaksi mahdollista lopputilaa, niin kolmen bitin mittaustulos voi olla 2^3 = 8 erilaista bittien 0 ja 1 yhdistelmää: 000, 001,010, 011 .. ja 111.\n",
    "\n",
    "Tulostetaan binääriluvut:\n",
    "\n"
   ]
  },
  {
   "cell_type": "code",
   "execution_count": 51,
   "id": "05293b0d",
   "metadata": {},
   "outputs": [
    {
     "name": "stdout",
     "output_type": "stream",
     "text": [
      "binääri: 0b0 eli 0\n",
      "binääri: 0b1 eli 1\n",
      "binääri: 0b10 eli 2\n",
      "binääri: 0b11 eli 3\n",
      "binääri: 0b100 eli 4\n",
      "binääri: 0b101 eli 5\n",
      "binääri: 0b110 eli 6\n",
      "binääri: 0b111 eli 7\n"
     ]
    }
   ],
   "source": [
    "for i in range(0b111+1):\n",
    "    print(\"binääri:\",bin(i),\"eli\",i)"
   ]
  },
  {
   "attachments": {},
   "cell_type": "markdown",
   "id": "348a7eb6",
   "metadata": {},
   "source": [
    " Jokaisen yksittäisen kubitin tilan määräytyessä mittaustapahtumassa jokaisella yksittäisellä mitatulla bitillä on 50% :n esiintymistodennäköisyys olla $0$ tai $1$. Tällöin kaikilla bittien $0$ ja $1$ yhdistelmillä on sama todennäköisyys.\n",
    "\n",
    "__Tehtävä 1:__ Ohjelmoi (yllä) kuvassa esitetty kvanttipiiri. \n",
    "\n",
    "Tarvittavat Pythonin komennot `QuantumCircuit(qubits)`, Hadamard eli H-portti: `circuit.h(qubit)`ja mittaus: `circuit.measure(qubit, register)`"
   ]
  },
  {
   "cell_type": "code",
   "execution_count": 1,
   "id": "1f0b2985",
   "metadata": {},
   "outputs": [],
   "source": [
    "from qiskit import *\n",
    "#from qiskit.tools.monitor import job_monitor\n",
    "# Ohjelmoi Tehtävä 1 tähän\n",
    "#circuit =____"
   ]
  },
  {
   "cell_type": "code",
   "execution_count": null,
   "id": "f6c68354",
   "metadata": {},
   "outputs": [],
   "source": [
    "# Voit ohjelmoida piirin toiminnan tässä, suurin frekvenssi on arvottu luku\n",
    "simulator = Aer.get_backend('qasm_simulator')\n",
    "execute(circuit, backend=simulator)\n",
    "result = execute(circuit, backend=simulator)\n",
    "job_monitor(result)\n",
    "print(result.result().get_counts())"
   ]
  },
  {
   "attachments": {},
   "cell_type": "markdown",
   "id": "ce726363",
   "metadata": {},
   "source": [
    "## Tehtävä 2\n",
    "\n",
    "$$\\renewcommand{\\ket}[1]{\\left|{#1}\\right\\rangle}$$\n",
    "$$\\renewcommand{\\bra}[1]{\\left\\langle{#1}\\right|}$$\n",
    "\n",
    "Tehtävät 1 - 4 käsittelivät yhden kubitin systeemiä. Seuraavassa kahdessa tehtävässä tarkastelemme controlled NOT -porttia ($\\mathit{CNOT}$), joka on kahden kubitin välinen operaatio. Kahden kubitin kvanttipiirissä systeemin tila esitetään seuraavilla kantavektoreilla:\n",
    "\n",
    "$$\n",
    "\\ket{00},\\ \\ket{01},\\ \\ket{10} ja \\ \\ket{11} \n",
    "$$\n",
    "\n",
    "missä \n",
    "\n",
    "$$\n",
    "\\ket{00}=\\begin{pmatrix}1 \\\\ 0 \\\\ 0 \\\\0\\end{pmatrix},\\ \\ket{01}=\\begin{pmatrix}0 \\\\ 1 \\\\ 0 \\\\0\\end{pmatrix},\\ \n",
    "\\ket{10}=\\begin{pmatrix}0 \\\\ 0 \\\\ 1 \\\\0\\end{pmatrix},\\ \\ket{11}=\\begin{pmatrix}0 \\\\ 0 \\\\ 0 \\\\1\\end{pmatrix}\n",
    "$$\n",
    "\n",
    "\n",
    " >**Lisätietoa:** Yllä esitetyt kahden kubitin tilaa esittävien ket-vektorit ja pystyvektorit perustuvat siis seuraavaan tensoritulon $\\otimes$ määritelmään:\n",
    "\n",
    "\n",
    ">$$ \\ket a = \\begin{pmatrix} a_0 \\\\ a_1 \\end{pmatrix}, \\quad \\ket b = \\begin{pmatrix} b_0 \\\\ b_1 \\end{pmatrix} $$\n",
    "\n",
    ">$$ \n",
    "\\ket {ba} = \\ket b\\otimes \\ket a = \\begin{pmatrix} b_0 \\times \\begin{pmatrix} a_0 \\\\ a_1 \\end{pmatrix} \\\\ b_1 \\times \\begin{pmatrix} a_0 \\\\ a_1 \\end{pmatrix} \\end{pmatrix} = \\begin{pmatrix} b_0 a_0 \\\\ b_0 a_1 \\\\ b_1 a_0 \\\\ b_1 a_1 \\end{pmatrix}\n",
    "$$\n",
    "\n",
    ">Esimerkiksi \n",
    ">$$ \n",
    "\\ket {00} = \\ket 0 \\otimes \\ket 0= \\begin{pmatrix} 1 \\cdot \\begin{pmatrix} 1 \\\\ 0 \\end{pmatrix} \\\\ 0 \\cdot \\begin{pmatrix} 1 \\\\ 0 \\end{pmatrix} \\end{pmatrix} = \\begin{pmatrix} 1\\cdot 1 \\\\ 1\\cdot 0 \\\\ 0 \\cdot 1 \\\\ 0 \\cdot 0 \\end{pmatrix}=\\begin{pmatrix} 1 \\\\ 0 \\\\0\\\\0 \\end{pmatrix} \n",
    "$$\n",
    "\n",
    "__Tehtävä 2:__ Muodosta kahden kubitin vektorit laskemalla seuraavat tensoritulot.\n",
    "\n",
    "$$\n",
    "\\ket {00} = \\ket 0 \\otimes \\ket 0, \\ \\ket {01} = \\ket 0 \\otimes \\ket 1, \\\n",
    "\\ket {10} = \\ket 1 \\otimes \\ket 0 ja \\ \\ket {11} = \\ket 1 \\otimes \\ket 1 \\ \n",
    "$$\n",
    "\n",
    "Pythonissa tensoritulon voi laskea seuraavasti: `np.kron(zero,zero)`\n"
   ]
  },
  {
   "cell_type": "code",
   "execution_count": null,
   "id": "535e85d8",
   "metadata": {},
   "outputs": [
    {
     "name": "stdout",
     "output_type": "stream",
     "text": [
      "ket 0\n",
      " [[1]\n",
      " [0]]\n",
      "ket 1\n",
      " [[0]\n",
      " [1]]\n"
     ]
    }
   ],
   "source": [
    "#Tehtävä 2, ohjelmoi tähän\n",
    "import numpy as np\n",
    "zero = np.matrix([[1], [0]])\n",
    "one = np.matrix([[0], [1]])\n",
    "#ket00 = np.kron(zero,zero)\n",
    "print(\"ket 0\\n\",zero)\n",
    "print(\"ket 1\\n\",one)\n",
    "#print(\"ket00\\n\",ket00)\n",
    "\n"
   ]
  },
  {
   "attachments": {},
   "cell_type": "markdown",
   "id": "17e09986",
   "metadata": {},
   "source": [
    "## Tehtävä 3\n",
    "\n",
    "$\\mathit{CNOT}$-portin operoidessa ensimmäinen qubitti on ns. ohjaava kubitti (control qubi1t), ja jälkimmäinen on kohdekubitti (target qubit). $\\mathit{CNOT}$ vaikuttaa koko systeemin tilaan seuraavasti:\n",
    "\n",
    "$$\n",
    "\\ket{00} \\rightarrow  \\ket{00}   \\\\\n",
    "\\ket{01} \\rightarrow  \\ket{01}   \\\\\n",
    "\\ket{10} \\rightarrow  \\ket{11}   \\\\\n",
    "\\ket{11} \\rightarrow  \\ket{10}   \\\\\n",
    "$$\n",
    "\n",
    "Tulos tarkoittaa, että jos ensimmäinen, ns. ohjaava kubitti on $0$, niin kohdekubitin tila ei muutu. Jos ohjaavakubitti $1$, niin kohdekubitin tila muuttuu. \n",
    "\n",
    "$\\mathit{CNOT}$-portin matriisiesitys on seuraava:\n",
    "\n",
    "$$\n",
    "\\mathit{CNOT} = \\begin{pmatrix} 1 & 0 & 0 & 0 \\\\ 0 & 1 & 0 & 0 \\\\ 0 & 0 & 0 & 1 \\\\ 0 & 0 & 1 & 0\\end{pmatrix} \n",
    "$$\n",
    "\n",
    "Huomaa, että vaikka matriisia merkitään monella kirjaimella, se ei ole monen matriisin tulo.\n",
    "\n",
    "Piirrosmerkki, jossa ylempänä esitetty kubitti on ohjaava, ja alempi toimii kohteena:\n",
    "\n",
    "![cnot](images/cnot.png)\n",
    "\n",
    "a) Laske CNOT-matriisin ja 2 kubitin tilaa kuvaavan pystyvektorin tulo, ja osoita että \n",
    "\n",
    "$$\n",
    "\\ket{01} \\rightarrow  \\ket{01} \\text{eli laske tulo  } \\mathit{CNOT} \\ket{01}  \\\\\n",
    "\\ket{10} \\rightarrow  \\ket{11}  \\text{eli laske tulo  } \\mathit{CNOT} \\ket{10} \\\\\n",
    "$$\n",
    "\n",
    "\n",
    "<a href=\"https://youtu.be/rLF-oHaXLtE\" target=\"_blank\">ohjevideo CNOT-portin toiminnasta</a>"
   ]
  },
  {
   "cell_type": "code",
   "execution_count": null,
   "id": "01d2bb17",
   "metadata": {},
   "outputs": [],
   "source": [
    "# Tehtävä 3: Ohjelmoi pythonilla tähän CNOT-matriisin ja 2 kubitin \n",
    "# Tilavektorien tulo. Vertaa yllä olevaan teoriaan ja tulkitse vastaus\n",
    "import numpy as np\n",
    "\n",
    "CNOT =  np.matrix([[1,0, 0,0],[0, 1, 0,0], [0, 0, 0,1], [0, 0, 1,0]])\n",
    "print(\"CNOT\\n\",CNOT)\n",
    "\n",
    "# määritellään pystyvektorina kubitin kvanttitila |00>:\n",
    "q00 = np.matrix([[1],[0],[0],[0]])\n",
    "print(\"ket00\\n\",q00)\n",
    "\n",
    "# määritellään pystyvektorina kubitin kvanttitila |01>:\n",
    "q01 = np.matrix([[0],[1],[0],[0]])\n",
    "print(\"ke01\\n\",q01)\n",
    "# |10>\n",
    "q10 = np.matrix([[0],[0],[1],[0]])\n",
    "#print(\"ke10\\n\",q10)\n",
    "\n",
    "# |11>\n",
    "\n",
    "q11 = np.matrix([[0],[0],[0],[1]])\n",
    "#print(\"ke11\\n\",q11)\n",
    "# matriisin ja pystyvektorin tulo numpyssä on * tai @ merkki\n",
    "# laske tulot tähän\n"
   ]
  },
  {
   "attachments": {},
   "cell_type": "markdown",
   "id": "87f9ff40",
   "metadata": {},
   "source": [
    "## Tehtävän 4: Bellin tilat ja niiden ket-vektoriesitys\n",
    "\n",
    "__Johdanto__\n",
    "\n",
    "Tehtävässä 4 tarkastellaan vielä kertauksena yksinkertaista kvanttipiiriä, jota käytetään Bellin parin luomiseen. Bellin pari kubaa kahden kubitin välistä lomittumista eli kytkentää. Samalla tavoitteena on myös tutustua syvemmin ket-notaation käyttöön kvanttitilan kuvauksessa.\n",
    "\n",
    "![bell_state](images/bell_state.png)\n",
    "\n",
    "Kuvan piirissä molemmat kubitit ovat alussa tilassa $\\ket 0$. Tämän jälkeen 1. kubittiin operoidaan H-portilla, ja kubitit 1 ja 2 lomitetaan CNOT-portilla. 1. kubitti on tällöin ohjaava kubitti, ja 2. kobitti on kohde. \n",
    "\n",
    "Kuvataan ensin kahden kubitin kvanttipiirin tila $H$-portin jälkeen. 1. kubitti on tilojen superpositiossa ja 2. kubitti on edelleen tilassa $\\ket 0$:\n",
    "\n",
    "$$\n",
    "\\frac{1}{\\sqrt 2} (\\ket 0 +  \\ket 1) \\otimes \\ket 0\n",
    "$$\n",
    "\n",
    "Laskemalla tilojen tensoritulon saadaan kahden kubitin systeemin tila esitettyä muodossa\n",
    "\n",
    "\n",
    "$$\n",
    "\\frac{1}{\\sqrt 2} (\\ket 0 \\ket 0 +  \\ket 1 \\ket 0) = \\frac{1}{\\sqrt 2}(\\ket{00}+\\ket{10}).\n",
    "$$\n",
    "\n",
    "Seuraavaksi esitetään, miten CNOT-portti vaikuttaa kahden kubitin systeemissä. Jos ohjaavan ensimmäisen kubitin tila on 1, niin kohdekubitin eli jälkimmäisen kubitin tila kääntyy:\n",
    "\n",
    "$$\n",
    "\\frac{1}{\\sqrt 2}(\\ket{00}+\\ket{10}) \\xrightarrow{\\text{CNOT}}\\frac{1}{\\sqrt 2}(\\ket{00}+\\ket{11})\n",
    "$$\n",
    "\n",
    "Tätä lopputilaa kutsutaan Bellin $\\ket {\\phi^+}$ tilaksi. Eli Bellin $\\ket {\\phi^+}$ tila määritellään seuraavasti:\n",
    "\n",
    "$$\\ket {\\phi^+}=\\frac{1}{\\sqrt 2}(\\ket{00}+\\ket{11}$$\n",
    "\n",
    "### ket-vektoriesitys:\n",
    "__Tehtävä 4A)__ Ohjelmoi piirin toiminta kubittien alkuarvoilla $\\ket 1$ ja $\\ket 0$.  Alla on esitetty piirin toiminta ket-notaation avulla. \n",
    "\n",
    "![bell_state](images/another_bell_state.png)\n",
    "\n",
    "Ohje: Muista 2. kierroksen tehtävien tulos, kuinka Hadamard-porttilla operointi vaikuttaa tilaan $\\ket 1$, eli $H\\ket 1 = \\frac{1}{\\sqrt 2} (\\ket 0 - \\ket 1)$.\n",
    "\n",
    "a-kohta:\n",
    "\n",
    "$H\\ket 1 \\otimes \\ket 0 = \\frac{1}{\\sqrt 2} (\\ket 0 - \\ket 1) \\otimes \\ket 0$.\n",
    "\n",
    "\n",
    "$$\n",
    "\\frac{1}{\\sqrt 2}(\\ket{00}-\\ket{10}) \\xrightarrow{\\text{CNOT}}\\frac{1}{\\sqrt 2}(\\ket{00}-\\ket{11})\n",
    "$$\n",
    "\n",
    "\n",
    "\n",
    "\n",
    "\n"
   ]
  },
  {
   "cell_type": "code",
   "execution_count": 2,
   "id": "4c1b73cb",
   "metadata": {},
   "outputs": [
    {
     "data": {
      "image/png": "[encoded data removed]",
      "text/plain": [
       "<Figure size 267.052x144.48 with 1 Axes>"
      ]
     },
     "execution_count": 2,
     "metadata": {},
     "output_type": "execute_result"
    }
   ],
   "source": [
    "# Ohjelmoit tehtävän 4A kuvassa esitetty kvanttipiiri tähän\n",
    "\n",
    "circuit=QuantumCircuit(2)\n",
    "# jatka tästä\n",
    "#circuit.__"
   ]
  },
  {
   "cell_type": "code",
   "execution_count": 3,
   "id": "519c2a40",
   "metadata": {},
   "outputs": [
    {
     "data": {
      "image/png": "[encoded data removed]",
      "text/plain": [
       "<Figure size 504x360 with 1 Axes>"
      ]
     },
     "execution_count": 3,
     "metadata": {},
     "output_type": "execute_result"
    }
   ],
   "source": [
    "# mitataan\n",
    "circuit.measure_all()\n",
    "# Simuloidaan piirin toiminta.\n",
    "simulator = Aer.get_backend('qasm_simulator')\n",
    "execute(circuit, backend=simulator)\n",
    "result = execute(circuit, backend=simulator).result()\n",
    "from qiskit.tools.visualization import plot_histogram\n",
    "plot_histogram(result.get_counts(circuit))"
   ]
  },
  {
   "cell_type": "code",
   "execution_count": null,
   "id": "a1e7df6b",
   "metadata": {},
   "outputs": [],
   "source": [
    "# Laske 4A matriisiesityksen avulla\n",
    "\n",
    "# määritellään pystyvektorina kubitin kvanttitila 0:\n",
    "zero = np.matrix([[1],[0]])\n",
    "\n",
    "# määritellään pystyvektorina kubitin kvanttitila 1:\n",
    "one = np.matrix([[0],[1]])\n",
    "\n",
    "# Matriisit X, H ja CNOT\n",
    "X =  np.matrix([[0, 1],[1, 0]])\n",
    "\n",
    "H =  1/np.sqrt(2)*np.matrix([[1, 1],[1, -1]])\n",
    "\n",
    "CNOT =  np.matrix([[1,0, 0,0],[0, 1, 0,0], [0, 0, 0,1], [0, 0, 1,0]])\n",
    "\n",
    "#print(\"X*ket 0 = ket 1\\n\", X*zero)\n",
    "print(\"H*ket 1\\n\",H*one)\n",
    "print(\"tensoritulo H ket 1 ja ket 0\\n\",np.kron((H*one),zero))\n",
    "print(\"CNOT\\n\",CNOT*(np.kron((H*one),zero)))"
   ]
  },
  {
   "attachments": {},
   "cell_type": "markdown",
   "id": "21365082",
   "metadata": {},
   "source": [
    "kertaus, vertaa kantavektoreiden pystyvektoriesitykseen:\n",
    "\n",
    "$$\n",
    "\\ket{00}=\\begin{pmatrix}1 \\\\ 0 \\\\ 0 \\\\0\\end{pmatrix},\\ \\ket{01}=\\begin{pmatrix}0 \\\\ 1 \\\\ 0 \\\\0\\end{pmatrix},\\ \n",
    "\\ket{10}=\\begin{pmatrix}0 \\\\ 0 \\\\ 1 \\\\0\\end{pmatrix},\\ \\ket{11}=\\begin{pmatrix}0 \\\\ 0 \\\\ 0 \\\\1\\end{pmatrix}\n",
    "$$\n",
    "\n",
    "CNOT-operaatio:\n",
    "\n",
    "$$\n",
    "\\frac{1}{\\sqrt 2}(\\ket{00}-\\ket{10}) \\xrightarrow{\\text{CNOT}}\\frac{1}{\\sqrt 2}(\\ket{00}-\\ket{11})\n",
    "$$"
   ]
  },
  {
   "attachments": {},
   "cell_type": "markdown",
   "id": "3bb29c85",
   "metadata": {},
   "source": [
    "B) Laske piirin toiminta myös kubittien alkuarvoilla $\\ket 0$ ja $\\ket 1$. Eli simuloi alla kuvattu piirin toiminta:\n",
    "\n",
    "$H\\ket 0 \\otimes \\ket 1 = \\frac{1}{\\sqrt 2} (\\ket 0 + \\ket 1) \\otimes \\ket 1$.\n",
    "\n",
    "\n",
    "$$\n",
    "\\frac{1}{\\sqrt 2}(\\ket{01}+\\ket{11}) \\xrightarrow{\\text{CNOT}}\\frac{1}{\\sqrt 2}(\\ket{01}+\\ket{10})\n",
    "$$\n",
    "\n"
   ]
  },
  {
   "cell_type": "code",
   "execution_count": null,
   "id": "36d7a258",
   "metadata": {},
   "outputs": [],
   "source": [
    "# TEhtävä 4B Ohjelmoi ja simuloi 4B kvanttippiri"
   ]
  },
  {
   "cell_type": "code",
   "execution_count": null,
   "id": "d968ddb0",
   "metadata": {},
   "outputs": [],
   "source": [
    "#Tehtävä 4B: laske piirin 4B toiminta matriisiesityksessä"
   ]
  },
  {
   "attachments": {},
   "cell_type": "markdown",
   "id": "ba52595b",
   "metadata": {},
   "source": [
    "C)vapaaehtoinen lisätehtävä: Ohjelmoi piirin toiminta myös kubittien alkuarvoilla $\\ket 1$ ja $\\ket 1$.\n",
    "\n",
    "$H\\ket 1 \\otimes \\ket 1 = \\frac{1}{\\sqrt 2} (\\ket 0 - \\ket 1) \\otimes \\ket 1$.\n",
    "\n",
    "\n",
    "$$\n",
    "\\frac{1}{\\sqrt 2}(\\ket{01}-\\ket{11}) \\xrightarrow{\\text{CNOT}}\\frac{1}{\\sqrt 2}(\\ket{01}-\\ket{10})\n",
    "$$"
   ]
  },
  {
   "cell_type": "code",
   "execution_count": null,
   "id": "1e47f18f",
   "metadata": {},
   "outputs": [],
   "source": [
    "#Vapaaehtoinen Tehtävä 4C: simuloi ket-esityksen kvanttipiiri"
   ]
  },
  {
   "attachments": {},
   "cell_type": "markdown",
   "id": "f43df496",
   "metadata": {},
   "source": [
    "**LISÄTIETOJA: TEHTÄVÄN 4 RATKAISUT:**\n",
    "\n",
    "\n",
    "Tehtävän A- ja B-kohdan ratkaisut ovat ns. Bellin tiloja, jotka määritellään seuraavasti:\n",
    "\n",
    "**A:** Kun alkuarvot ovat $\\ket 1$ ja $\\ket 0$, niin saadaan $\\ket {\\phi^-}=\\frac{1}{\\sqrt 2}(\\ket{00}-\\ket{11}$\n",
    "\n",
    "**B:**\n",
    "\n",
    "Kun alkuarvot ovat $\\ket 0$ ja $\\ket 1$, niin saadaan $\\ket {\\psi^+}=\\frac{1}{\\sqrt 2}(\\ket{01}+\\ket{10}$ \n",
    "\n",
    "Kun alkuarvot ovat $\\ket 1$ ja $\\ket 1$, niin saadaan $\\ket {\\psi^-}=\\frac{1}{\\sqrt 2}(\\ket{01}-\\ket{10}$\n",
    "\n",
    "\n",
    "Vektorit $\\ket {\\phi^+}$ ja $\\ket {\\phi^-}$ sekä $\\ket {\\psi^+}$ ja $\\ket {\\psi^-}$ ovat ns. ortonormaaleja Bellin kantavektoreita, joita voidaan käyttää kvanttipiirin tilan kuvauksessa. Kun Bellin kantavektorit laskettiin kahden kubitin alkutiloista suoritetiin ns. kannanvaihto. H- ja CNOT-porttien avulla toteutettu kannanvaihto on unitaarinen, koska käytetyt portit ovat unitaarisia. Oikeastaan kaikki ortonormaalien kantojen väliset kannanvaihto-operaattorit ovat unitaarisia.\n"
   ]
  },
  {
   "attachments": {},
   "cell_type": "markdown",
   "id": "ea61a6d2",
   "metadata": {},
   "source": [
    "__LISÄTEHTÄVÄ__ (vapaaehtoinen)\n",
    "Seuraavalla kaavalla voidaan laskea todennäköisyys, että kubitti $\\ket \\psi$ havaitaan tilassa $\\ket x$.\n",
    "$$\n",
    "P(\\ket x)= |\\braket {x | \\psi}|^2 . \n",
    "$$\n",
    "\n",
    "\n",
    "a) Olkoon kubitti alkutilassa $\\ket {\\phi^-}$. Määritä todennäköisyys, että kubitin tilan mittauksessa saadaan mittaustulokseksi eli kubitin tilaksi $\\ket{00}$."
   ]
  },
  {
   "cell_type": "code",
   "execution_count": null,
   "id": "7e78ecba",
   "metadata": {},
   "outputs": [],
   "source": [
    "# LISÄTEHTÄVÄ tähän\n",
    "# määritellään pystyvektorina kubitin kvanttitila 0:\n",
    "zero = np.matrix([[1],[0]])\n",
    "\n",
    "# määritellään pystyvektorina kubitin kvanttitila 1:\n",
    "one = np.matrix([[0],[1]])\n",
    "\n",
    "# Matriisit X, H ja CNOT\n",
    "X =  np.matrix([[0, 1],[1, 0]])\n",
    "\n",
    "H =  1/np.sqrt(2)*np.matrix([[1, 1],[1, -1]])\n",
    "\n",
    "CNOT =  np.matrix([[1,0, 0,0],[0, 1, 0,0], [0, 0, 0,1], [0, 0, 1,0]])"
   ]
  },
  {
   "attachments": {},
   "cell_type": "markdown",
   "id": "2e4d53b4",
   "metadata": {},
   "source": [
    "## Tehtävä 5\n",
    "Y-portti vastaa kubitin tilavektorin kiertoa Blochin pallolla $180^o$ y-akselin ympäri . Y-portin matriisiesitys on seuraava:\n",
    "\n",
    "$$\n",
    "Y=\\begin{pmatrix} 0 & -i \\\\ i & 0\\end{pmatrix}\n",
    "$$\n",
    "\n",
    "Merkintä $i$ on kompleksilukuihin liittyvä imaginaariyksikkö, jolle on voimassa $i^2 = -1$. \n",
    "<a href=\"http://math.tkk.fi/opetus/p3/04/L/L1printit.pdf\" target=\"_blank\">Lisätietoa kompleksiluvuista.</a>\n",
    "\n",
    "Vastaavasti Z-portti vastaa kubitin tilavektorin kiertoa Blochin  $180^o$ kiertoa z-akselin ympäri. Z-portin matriisiesitys on seuraava:\n",
    "\n",
    "$$\n",
    "Z=\\begin{pmatrix}1 & 0 \\\\ 0 & -1\\end{pmatrix}\n",
    "$$\n",
    "\n",
    "__Tehtävä 5A)__ Tutki <a href=\"https://bloch.ollpu.fi/\" target=\"_blank\">havainnollistavan simulaation</a> avulla miten alkutilassa $\\ket 0$ oleva tilavektori  kierttyy X, Y, Z porttien vaikutuksesta Blochin pallolla x,y,z-akselien ympäri.\n",
    "\n",
    "__Tehtävä 5B)__ Ratkaise-kohdan simulaation avulla: Jos kubitin alkutila on $\\ket 0$, niin mikä on kubitin lopputila seuraavien porttien operaatioiden eli kiertojen jälkeen? Kiinnitä huomiota minkä akselin ympäri portti kiertää kubittia, ja vaikuttaako kyseinen kierto kubitin tilaan?\n",
    "![kubit_xyz.png](images/kubit_xyz.png)"
   ]
  },
  {
   "attachments": {},
   "cell_type": "markdown",
   "id": "00c4b7da",
   "metadata": {},
   "source": [
    "__Tehtävä 5C)__  Tutki <a href=\"https://bloch.ollpu.fi/\" target=\"_blank\">havainnollistavan simulaation</a> avulla : Jos yhden kubitin kvanttipiriissä kubitin alkutila on $\\ket 0$, niin mikä on kubitin lopputila seuraavien operaatioiden eli kiertojen jälkeen $HZH$?\n",
    "\n",
    "Millä yhdellä portilla operaatio $HZH$ voidaan korvata?\n",
    "\n",
    "__Tehtävä 5D)__ Pythonissa matriisin Y käänteismatriisin voi laskea komennolla `np.linalg.inv(Y)`. Tulosta matriisi Y ja sen käänteismatriisi.\n",
    " \n",
    "Osoita laskemalla pythonilla matriisien tulo, että $YY=I$, missä $I$ on yksikkömatriisi. Tämä tarkoittaa jälleen, että $Y$ on itsensä käänteismatriisi. Kaksi Y-portin operaatiota kiertää kubitin tilavektorin takaisin alkuperäiseen tilaan."
   ]
  },
  {
   "cell_type": "code",
   "execution_count": null,
   "id": "9c6d2822",
   "metadata": {},
   "outputs": [],
   "source": [
    "# Tehtävä 5D\n",
    "Y = np.matrix([[0,-1j],[1j,0]])\n",
    "print(\"Y Matriisi:\\n\",Y)\n",
    "#print(\"Y Matriisin käänteismatriisi:\\n\")\n",
    "#print(\"tulo YY:\")\n"
   ]
  },
  {
   "attachments": {},
   "cell_type": "markdown",
   "id": "58a3a68c",
   "metadata": {},
   "source": [
    "## Tehtävä 6\n",
    "\n",
    "Muodosta kuvan kvanttipiirin toimintaa kuvaava unitaarinen matriisi.\n",
    "\n",
    "![tehtava6.png](images/tehtava6.png)"
   ]
  },
  {
   "cell_type": "code",
   "execution_count": null,
   "id": "02800773",
   "metadata": {},
   "outputs": [],
   "source": [
    "# Laske tehtävä 6 tähän matriisiesityksen avulla\n",
    "\n",
    "# määritellään pystyvektorina kubitin kvanttitila 0:\n",
    "zero = np.matrix([[1],[0]])\n",
    "\n",
    "# määritellään pystyvektorina kubitin kvanttitila 1:\n",
    "one = np.matrix([[0],[1]])\n",
    "\n",
    "# Matriisit X, H ja CNOT\n",
    "X =  np.matrix([[0, 1],[1, 0]])\n",
    "\n",
    "H =  1/np.sqrt(2)*np.matrix([[1, 1],[1, -1]])\n",
    "\n",
    "CNOT =  np.matrix([[1,0, 0,0],[0, 1, 0,0], [0, 0, 0,1], [0, 0, 1,0]])"
   ]
  },
  {
   "cell_type": "code",
   "execution_count": 3,
   "id": "e2a73c95",
   "metadata": {},
   "outputs": [
    {
     "data": {
      "image/png": "[encoded data removed]",
      "text/plain": [
       "<Figure size 267.052x144.48 with 1 Axes>"
      ]
     },
     "execution_count": 3,
     "metadata": {},
     "output_type": "execute_result"
    }
   ],
   "source": [
    "circuit =QuantumCircuit(2)\n",
    "circuit.h(0)\n",
    "circuit.cx(0,1)\n",
    "circuit.h(1)\n",
    "circuit.draw(output='mpl')"
   ]
  },
  {
   "attachments": {},
   "cell_type": "markdown",
   "id": "004f809f",
   "metadata": {},
   "source": [
    "## Tehtävä 7 kvanttinoppa lukujen 1 -6 arvontaan\n",
    "\n",
    "Lue artikkeli kvanttinoppa ja erityisesti miten nopan silmäluvut 1- 6 voidaan ohjelmoida kolmen kubitin kvanttipiiriin kvanttialgoritmilla.\n",
    "\n",
    "<a href=\"https://www.lukemaverkosto.fi/materiaali/microbit-kvanttinoppa/\" target =\"_blank\"> Microbit kvanttinoppa</a>\n",
    "\n",
    "Artikkelin alussa oleva helppo esimerkki on lämmittelyä. Perehdy R-kiertoportilla toteutettuun versioon."
   ]
  },
  {
   "cell_type": "code",
   "execution_count": 78,
   "id": "d4f9a368",
   "metadata": {},
   "outputs": [
    {
     "data": {
      "image/png": "[encoded data removed]",
      "text/plain": [
       "<Figure size 507.997x264.88 with 1 Axes>"
      ]
     },
     "execution_count": 78,
     "metadata": {},
     "output_type": "execute_result"
    }
   ],
   "source": [
    "import math\n",
    "dice_circuit =QuantumCircuit(3,3)\n",
    "# Käännetään kubittia kohdassa 2 sopivan määrän, jotta \n",
    "# saadaan 1 todennäköisyydellä 2/3\n",
    "# Matematiikka luvun taustalla löytyy artikkelista\n",
    "dice_circuit.ry(2 * math.asin(math.sqrt(2/3)), 2)\n",
    "\n",
    "dice_circuit.ch(2, 1)\n",
    "dice_circuit.x(2)\n",
    "dice_circuit.h(0)\n",
    "\n",
    "dice_circuit.barrier()\n",
    "dice_circuit.measure([0,1,2],[0,1,2])\n",
    "dice_circuit.draw(output=\"mpl\")"
   ]
  },
  {
   "cell_type": "code",
   "execution_count": 79,
   "id": "300d512c",
   "metadata": {},
   "outputs": [
    {
     "data": {
      "image/png": "[encoded data removed]",
      "text/plain": [
       "<Figure size 504x360 with 1 Axes>"
      ]
     },
     "execution_count": 79,
     "metadata": {},
     "output_type": "execute_result"
    }
   ],
   "source": [
    "# käytetään simulaattoria, eli ei ajeta ohjelmaa oikealla kvanttitietokoneella\n",
    "computer = Aer.get_backend(\"qasm_simulator\")\n",
    "r = execute(dice_circuit, computer).result()\n",
    "plot_histogram(r.get_counts())"
   ]
  }
 ],
 "metadata": {
  "kernelspec": {
   "display_name": "quantum_computing",
   "language": "python",
   "name": "python3"
  },
  "language_info": {
   "codemirror_mode": {
    "name": "ipython",
    "version": 3
   },
   "file_extension": ".py",
   "mimetype": "text/x-python",
   "name": "python",
   "nbconvert_exporter": "python",
   "pygments_lexer": "ipython3",
   "version": "3.10.0"
  },
  "vscode": {
   "interpreter": {
    "hash": "c599cb660db903d48c4a798280cd684b1e61eb2f03221ce98a1665e092e9537c"
   }
  }
 },
 "nbformat": 4,
 "nbformat_minor": 5
}

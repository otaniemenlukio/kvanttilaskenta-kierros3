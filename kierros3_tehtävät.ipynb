{
 "cells": [
  {
   "attachments": {},
   "cell_type": "markdown",
   "id": "8ed8ce6e",
   "metadata": {},
   "source": [
    "## Tehtävä 1 toisistaan riippumattomat kubitit ja satunnaisluvun arvonta\n",
    "\n",
    "Kuvassa on esitetty miten Qiskit-kirjaston funktoiden avulla on määritelty kolmesta kubitista muodostuva kvanttipiiri.\n",
    "\n",
    "![kuva1](images/satunnaisluku.png)\n",
    "\n",
    "Kun jokaiseen yksittäiseen kubittiin q operoidaan Hadamard-portilla eli H-portilla, asettuvat kubitit toisistaan riippumatta tilojen 0 ja 1 superpositioon:\n",
    "\n",
    "$$ \\ket \\psi = \\frac{1}{\\sqrt{2}}\\ket 0+\\frac{1}{\\sqrt{2}}\\ket 1 $$\n",
    "\n",
    "Kun yksittäisen kubitin tila mitataan ja mittaustulos tallennetaan klassiseen rekisteriin (nuoli kuvassa), on molempien mahdollisten mittaustulosten 0 ja 1 todennäköisyys sama:\n",
    "\n",
    "$$\n",
    "P(0)=P(1)=(\\frac{1}{\\sqrt{2}})^2=0.5\n",
    "$$.\n",
    "\n",
    "Koska jokaisella kolmella kubitilla on kaksi mahdollista lopputilaa, niin kolmen bitin mittaustulos voi olla 2^3 = 8 erilaista bittien 0 ja 1 yhdistelmää:\n",
    "\n"
   ]
  },
  {
   "cell_type": "code",
   "execution_count": null,
   "id": "05293b0d",
   "metadata": {},
   "outputs": [],
   "source": [
    "for i in range(0b111+1):\n",
    "    print(bin(i))"
   ]
  },
  {
   "attachments": {},
   "cell_type": "markdown",
   "id": "348a7eb6",
   "metadata": {},
   "source": [
    " Jokaisen yksittäisen kubitin tilan määräytyessä mittaustapahtumassa jokaisella yksittäisellä mitatulla bitillä on 50% :n esiintymistodennäköisyys olla $0$ tai $1$. Tällöin kaikilla bittien $0$ ja $1$ yhdistelmillä on sama todennäköisyys.\n",
    "\n",
    "Tehtävä 1: Ohjelmoi (yllä) kuvassa esitetty kvanttipiiri"
   ]
  },
  {
   "cell_type": "code",
   "execution_count": 11,
   "id": "1f0b2985",
   "metadata": {},
   "outputs": [],
   "source": [
    "from qiskit import *\n",
    "#from qiskit.tools.monitor import job_monitor"
   ]
  },
  {
   "cell_type": "code",
   "execution_count": null,
   "id": "f6c68354",
   "metadata": {},
   "outputs": [],
   "source": [
    "# Voit ohjelmoida piirin toiminnan tässä, suurin frekvenssi on arvottu luku\n",
    "simulator = Aer.get_backend('qasm_simulator')\n",
    "execute(circuit, backend=simulator)\n",
    "result = execute(circuit, backend=simulator)\n",
    "job_monitor(result)\n",
    "print(result.result().get_counts())"
   ]
  },
  {
   "attachments": {},
   "cell_type": "markdown",
   "id": "ce726363",
   "metadata": {},
   "source": [
    "## Tehtävä 2\n",
    "\n",
    "$$\\renewcommand{\\ket}[1]{\\left|{#1}\\right\\rangle}$$\n",
    "$$\\renewcommand{\\bra}[1]{\\left\\langle{#1}\\right|}$$\n",
    "\n",
    "Tehtävät 1 - 4 käsittelivät yhden kubitin systeemiä. Seuraavassa kahdessa tehtävässä tarkastelemme controlled NOT -porttia ($\\mathit{CNOT}$), joka on kahden kubitin välinen operaatio. Kahden kubitin kvanttipiirissä systeemin tila esitetään seuraavilla kantavektoreilla:\n",
    "\n",
    "$$\n",
    "\\ket{00},\\ \\ket{01},\\ \\ket{10} ja \\ \\ket{11} \n",
    "$$\n",
    "\n",
    "missä \n",
    "\n",
    "$$\n",
    "\\ket{00}=\\begin{pmatrix}1 \\\\ 0 \\\\ 0 \\\\0\\end{pmatrix},\\ \\ket{01}=\\begin{pmatrix}0 \\\\ 1 \\\\ 0 \\\\0\\end{pmatrix},\\ \n",
    "\\ket{10}=\\begin{pmatrix}0 \\\\ 0 \\\\ 1 \\\\0\\end{pmatrix},\\ \\ket{11}=\\begin{pmatrix}0 \\\\ 0 \\\\ 0 \\\\1\\end{pmatrix}\n",
    "$$\n",
    "\n",
    "\n",
    " >**Lisätietoa:** Yllä esitetyt kahden kubitin tilaa esittävien ket-vektorit ja pystyvektorit perustuvat siis seuraavaan tensoritulon $\\otimes$ määritelmään:\n",
    "\n",
    "\n",
    ">$$ \\ket a = \\begin{pmatrix} a_0 \\\\ a_1 \\end{pmatrix}, \\quad \\ket b = \\begin{pmatrix} b_0 \\\\ b_1 \\end{pmatrix} $$\n",
    "\n",
    ">$$ \n",
    "\\ket {ba} = \\ket b\\otimes \\ket a = \\begin{pmatrix} b_0 \\times \\begin{pmatrix} a_0 \\\\ a_1 \\end{pmatrix} \\\\ b_1 \\times \\begin{pmatrix} a_0 \\\\ a_1 \\end{pmatrix} \\end{pmatrix} = \\begin{pmatrix} b_0 a_0 \\\\ b_0 a_1 \\\\ b_1 a_0 \\\\ b_1 a_1 \\end{pmatrix}\n",
    "$$\n",
    "\n",
    ">Esimerkiksi \n",
    ">$$ \n",
    "\\ket {00} = \\ket 0 \\otimes \\ket 0= \\begin{pmatrix} 1 \\cdot \\begin{pmatrix} 1 \\\\ 0 \\end{pmatrix} \\\\ 0 \\cdot \\begin{pmatrix} 1 \\\\ 0 \\end{pmatrix} \\end{pmatrix} = \\begin{pmatrix} 1\\cdot 1 \\\\ 1\\cdot 0 \\\\ 0 \\cdot 1 \\\\ 0 \\cdot 0 \\end{pmatrix}=\\begin{pmatrix} 1 \\\\ 0 \\\\0\\\\0 \\end{pmatrix} \n",
    "$$\n",
    "\n",
    "Tehtävä 2: Muodosta kahden kubitin vektorit laskemalla tensoritulot:\n"
   ]
  },
  {
   "cell_type": "code",
   "execution_count": null,
   "id": "535e85d8",
   "metadata": {},
   "outputs": [],
   "source": [
    "#Tehtävä 2, ohjelmoi tähän\n",
    "import numpy as np\n",
    "zero = np.matrix([[1], [0]])\n",
    "one = np.matrix([[0], [1]])\n",
    "print(\"ket 0\\n\",zero)\n",
    "print(\"ket 1\\n\",one)\n",
    "\n"
   ]
  },
  {
   "attachments": {},
   "cell_type": "markdown",
   "id": "17e09986",
   "metadata": {},
   "source": [
    "## Tehtävä 3\n",
    "\n",
    "$\\mathit{CNOT}$-portin operoidessa ensimmäinen qubitti on ns. ohjaava kubitti (control qubi1t), ja jälkimmäinen on kohdekubitti (target qubit). $\\mathit{CNOT}$ vaikuttaa koko systeemin tilaan seuraavasti:\n",
    "\n",
    "$$\n",
    "\\ket{00} \\rightarrow  \\ket{00}   \\\\\n",
    "\\ket{01} \\rightarrow  \\ket{01}   \\\\\n",
    "\\ket{10} \\rightarrow  \\ket{11}   \\\\\n",
    "\\ket{11} \\rightarrow  \\ket{10}   \\\\\n",
    "$$\n",
    "\n",
    "Tulos tarkoittaa, että jos ensimmäinen, ns. ohjaava kubitti on $0$, niin kohdekubitin tila ei muutu. Jos ohjaavakubitti $1$, niin kohdekubitin tila muuttuu. \n",
    "\n",
    "$\\mathit{CNOT}$-portin matriisiesitys on seuraava:\n",
    "\n",
    "$$\n",
    "\\mathit{CNOT} = \\begin{pmatrix} 1 & 0 & 0 & 0 \\\\ 0 & 1 & 0 & 0 \\\\ 0 & 0 & 0 & 1 \\\\ 0 & 0 & 1 & 0\\end{pmatrix} \n",
    "$$\n",
    "\n",
    "Huomaa, että vaikka matriisia merkitään monella kirjaimella, se ei ole monen matriisin tulo.\n",
    "\n",
    "Piirrosmerkki, jossa ylempänä esitetty kubitti on ohjaava, ja alempi toimii kohteena:\n",
    "\n",
    "![cnot](images/cnot.png)\n",
    "\n",
    "a) Laske CNOT-matriisin ja 2 kubitin tilaa kuvaavan pystyvektorin tulo, ja osoita että \n",
    "\n",
    "$$\n",
    "\\ket{01} \\rightarrow  \\ket{01} \\text{eli laske tulo  } \\mathit{CNOT} \\ket{01}  \\\\\n",
    "\\ket{10} \\rightarrow  \\ket{11}  \\text{eli laske tulo  } \\mathit{CNOT} \\ket{10} \\\\\n",
    "$$\n",
    "\n",
    "\n",
    "<a href=\"https://youtu.be/rLF-oHaXLtE\" target=\"_blank\">ohjevideo CNOT-portin toiminnasta</a>"
   ]
  },
  {
   "attachments": {},
   "cell_type": "markdown",
   "id": "16af1c04",
   "metadata": {},
   "source": [
    "1)  Usemman kubitin piiri'\n",
    "\n",
    "2) Tensoritulo\n",
    "\n",
    "3) Cnot \n",
    "\n",
    "4) Bellin tilat\n",
    "\n",
    "5) Matriisi\n",
    " Matikkatehtävä:Käänteismatriisi projektio y-portin ja  tulo itsensä \n",
    "   - osoita että Y matriisi on unitaarinen\n",
    "- \n",
    "6) Swap\n",
    "\n",
    "CZ-portti\n",
    "\n",
    "\n",
    "- 7) vikatehtävä kvanttinoppa\n"
   ]
  },
  {
   "cell_type": "code",
   "execution_count": null,
   "id": "42b011a2",
   "metadata": {},
   "outputs": [],
   "source": [
    "# Ohjelmoi pythonilla tähän\n",
    "import numpy as np\n",
    "\n",
    "CNOT =  np.matrix([[1,0, 0,0],[0, 1, 0,0], [0, 0, 0,1], [0, 0, 1,0]])\n",
    "print(\"CNOT\\n\",CNOT)\n",
    "\n",
    "# määritellään pystyvektorina kubitin kvanttitila |00>:\n",
    "q00 = np.matrix([[1],[0],[0],[0]])\n",
    "print(\"ket00\\n\",q00)\n",
    "\n",
    "# määritellään pystyvektorina kubitin kvanttitila |01>:\n",
    "q01 = np.matrix([[0],[1],[0],[0]])\n",
    "print(\"ke01\\n\",q01)\n",
    "# |10>\n",
    "q10 = np.matrix([[0],[0],[1],[0]])\n",
    "\n",
    "# |11>\n",
    "\n",
    "q11 = np.matrix([[0],[0],[1],[0]])\n",
    "# matriisin ja pystyvektorin tulo numpyssä on * tai @ merkki"
   ]
  },
  {
   "cell_type": "markdown",
   "id": "f8688911",
   "metadata": {},
   "source": []
  },
  {
   "attachments": {},
   "cell_type": "markdown",
   "id": "b5b29aaa",
   "metadata": {},
   "source": [
    "## Tehtävä 2: Ohjelmoi seuraava kvanttipiiri, ja simuloi se.\n",
    "![Tehtävä:](images/qc.png)"
   ]
  },
  {
   "cell_type": "code",
   "execution_count": null,
   "id": "6e524e44",
   "metadata": {},
   "outputs": [],
   "source": [
    "# Tehtävä\n",
    "qc = QuantumCircuit(2)\n",
    "\n",
    "# Ohjelmoi tähän kuvan kvanttipiiri\n",
    "\n",
    "qc.measure_all()\n",
    "qc.draw(output='mpl')"
   ]
  },
  {
   "cell_type": "code",
   "execution_count": null,
   "id": "75bc0833",
   "metadata": {},
   "outputs": [],
   "source": [
    "backend = Aer.get_backend('aer_simulator')\n",
    "plot_histogram(backend.run(qc).result().get_counts())"
   ]
  }
 ],
 "metadata": {
  "kernelspec": {
   "display_name": "quantum_computing",
   "language": "python",
   "name": "python3"
  },
  "language_info": {
   "codemirror_mode": {
    "name": "ipython",
    "version": 3
   },
   "file_extension": ".py",
   "mimetype": "text/x-python",
   "name": "python",
   "nbconvert_exporter": "python",
   "pygments_lexer": "ipython3",
   "version": "3.10.0"
  },
  "vscode": {
   "interpreter": {
    "hash": "c599cb660db903d48c4a798280cd684b1e61eb2f03221ce98a1665e092e9537c"
   }
  }
 },
 "nbformat": 4,
 "nbformat_minor": 5
}

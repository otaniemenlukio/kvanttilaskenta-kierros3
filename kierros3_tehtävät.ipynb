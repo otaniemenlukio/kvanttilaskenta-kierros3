{
 "cells": [
  {
   "attachments": {},
   "cell_type": "markdown",
   "id": "8ed8ce6e",
   "metadata": {},
   "source": [
    "## Tehtävä 1: toisistaan riippumattomat kubitit ja satunnaisluvun arvonta\n",
    "\n",
    "Kuvassa on esitetty kolmesta kubitista muodostuva kvanttipiiri.\n",
    "\n",
    "![kuva1](images/satunnaisluku.png)\n",
    "\n",
    "Kun jokaiseen yksittäiseen kubittiin q operoidaan Hadamard-portilla eli H-portilla, asettuvat kubitit toisistaan riippumatta tilojen 0 ja 1 superpositioon:\n",
    "\n",
    "$$ \\ket \\psi = \\frac{1}{\\sqrt{2}}\\ket 0+\\frac{1}{\\sqrt{2}}\\ket 1 $$\n",
    "\n",
    "Kun yksittäisen kubitin tila mitataan ja mittaustulos tallennetaan klassiseen rekisteriin (nuoli kuvassa), on molempien mahdollisten mittaustulosten 0 ja 1 todennäköisyys sama:\n",
    "\n",
    "$$\n",
    "P(0)=P(1)=(\\frac{1}{\\sqrt{2}})^2=0.5\n",
    "$$.\n",
    "\n",
    "Koska jokaisella kolmella kubitilla on kaksi mahdollista lopputilaa, niin kolmen bitin mittaustulos voi olla 2^3 = 8 erilaista bittien 0 ja 1 yhdistelmää: 000, 001,010, 011 .. ja 111.\n",
    "\n",
    "Tulostetaan binääriluvut:\n",
    "\n"
   ]
  },
  {
   "cell_type": "code",
   "execution_count": 51,
   "id": "05293b0d",
   "metadata": {},
   "outputs": [
    {
     "name": "stdout",
     "output_type": "stream",
     "text": [
      "binääri: 0b0 eli 0\n",
      "binääri: 0b1 eli 1\n",
      "binääri: 0b10 eli 2\n",
      "binääri: 0b11 eli 3\n",
      "binääri: 0b100 eli 4\n",
      "binääri: 0b101 eli 5\n",
      "binääri: 0b110 eli 6\n",
      "binääri: 0b111 eli 7\n"
     ]
    }
   ],
   "source": [
    "for i in range(0b111+1):\n",
    "    print(\"binääri:\",bin(i),\"eli\",i)"
   ]
  },
  {
   "attachments": {},
   "cell_type": "markdown",
   "id": "348a7eb6",
   "metadata": {},
   "source": [
    " Jokaisen yksittäisen kubitin tilan määräytyessä mittaustapahtumassa jokaisella yksittäisellä mitatulla bitillä on 50% :n esiintymistodennäköisyys olla $0$ tai $1$. Tällöin kaikilla bittien $0$ ja $1$ yhdistelmillä on sama todennäköisyys.\n",
    "\n",
    "__Tehtävä 1:__ Ohjelmoi (yllä) kuvassa esitetty kvanttipiiri. \n",
    "\n",
    "Tarvittavat Pythonin komennot `QuantumCircuit(qubits)`, Hadamard eli H-portti: `circuit.h(qubit)`ja mittaus: `circuit.measure(qubit, register)`"
   ]
  },
  {
   "cell_type": "code",
   "execution_count": 1,
   "id": "1f0b2985",
   "metadata": {},
   "outputs": [],
   "source": [
    "from qiskit import *\n",
    "#from qiskit.tools.monitor import job_monitor\n",
    "# Ohjelmoi Tehtävä 1 tähän\n",
    "#circuit =____"
   ]
  },
  {
   "cell_type": "code",
   "execution_count": null,
   "id": "f6c68354",
   "metadata": {},
   "outputs": [],
   "source": [
    "# Voit ohjelmoida piirin toiminnan tässä, suurin frekvenssi on arvottu luku\n",
    "simulator = Aer.get_backend('qasm_simulator')\n",
    "execute(circuit, backend=simulator)\n",
    "result = execute(circuit, backend=simulator)\n",
    "job_monitor(result)\n",
    "print(result.result().get_counts())"
   ]
  },
  {
   "attachments": {},
   "cell_type": "markdown",
   "id": "ce726363",
   "metadata": {},
   "source": [
    "## Tehtävä 2\n",
    "\n",
    "$$\\renewcommand{\\ket}[1]{\\left|{#1}\\right\\rangle}$$\n",
    "$$\\renewcommand{\\bra}[1]{\\left\\langle{#1}\\right|}$$\n",
    "\n",
    "Tehtävät 1 - 4 käsittelivät yhden kubitin systeemiä. Seuraavassa kahdessa tehtävässä tarkastelemme controlled NOT -porttia ($\\mathit{CNOT}$), joka on kahden kubitin välinen operaatio. Kahden kubitin kvanttipiirissä systeemin tila esitetään seuraavilla kantavektoreilla:\n",
    "\n",
    "$$\n",
    "\\ket{00},\\ \\ket{01},\\ \\ket{10} ja \\ \\ket{11} \n",
    "$$\n",
    "\n",
    "missä \n",
    "\n",
    "$$\n",
    "\\ket{00}=\\begin{pmatrix}1 \\\\ 0 \\\\ 0 \\\\0\\end{pmatrix},\\ \\ket{01}=\\begin{pmatrix}0 \\\\ 1 \\\\ 0 \\\\0\\end{pmatrix},\\ \n",
    "\\ket{10}=\\begin{pmatrix}0 \\\\ 0 \\\\ 1 \\\\0\\end{pmatrix},\\ \\ket{11}=\\begin{pmatrix}0 \\\\ 0 \\\\ 0 \\\\1\\end{pmatrix}\n",
    "$$\n",
    "\n",
    "\n",
    " >**Lisätietoa:** Yllä esitetyt kahden kubitin tilaa esittävien ket-vektorit ja pystyvektorit perustuvat siis seuraavaan tensoritulon $\\otimes$ määritelmään:\n",
    "\n",
    "\n",
    ">$$ \\ket a = \\begin{pmatrix} a_0 \\\\ a_1 \\end{pmatrix}, \\quad \\ket b = \\begin{pmatrix} b_0 \\\\ b_1 \\end{pmatrix} $$\n",
    "\n",
    ">$$ \n",
    "\\ket {ba} = \\ket b\\otimes \\ket a = \\begin{pmatrix} b_0 \\times \\begin{pmatrix} a_0 \\\\ a_1 \\end{pmatrix} \\\\ b_1 \\times \\begin{pmatrix} a_0 \\\\ a_1 \\end{pmatrix} \\end{pmatrix} = \\begin{pmatrix} b_0 a_0 \\\\ b_0 a_1 \\\\ b_1 a_0 \\\\ b_1 a_1 \\end{pmatrix}\n",
    "$$\n",
    "\n",
    ">Esimerkiksi \n",
    ">$$ \n",
    "\\ket {00} = \\ket 0 \\otimes \\ket 0= \\begin{pmatrix} 1 \\cdot \\begin{pmatrix} 1 \\\\ 0 \\end{pmatrix} \\\\ 0 \\cdot \\begin{pmatrix} 1 \\\\ 0 \\end{pmatrix} \\end{pmatrix} = \\begin{pmatrix} 1\\cdot 1 \\\\ 1\\cdot 0 \\\\ 0 \\cdot 1 \\\\ 0 \\cdot 0 \\end{pmatrix}=\\begin{pmatrix} 1 \\\\ 0 \\\\0\\\\0 \\end{pmatrix} \n",
    "$$\n",
    "\n",
    "__Tehtävä 2:__ Muodosta kahden kubitin vektorit laskemalla seuraavat tensoritulot.\n",
    "\n",
    "$$\n",
    "\\ket {00} = \\ket 0 \\otimes \\ket 0, \\ \\ket {01} = \\ket 0 \\otimes \\ket 1, \\\n",
    "\\ket {10} = \\ket 1 \\otimes \\ket 0 ja \\ \\ket {11} = \\ket 1 \\otimes \\ket 1 \\ \n",
    "$$\n",
    "\n",
    "Pythonissa tensoritulon voi laskea seuraavasti: `np.kron(zero,zero)`\n"
   ]
  },
  {
   "cell_type": "code",
   "execution_count": null,
   "id": "535e85d8",
   "metadata": {},
   "outputs": [
    {
     "name": "stdout",
     "output_type": "stream",
     "text": [
      "ket 0\n",
      " [[1]\n",
      " [0]]\n",
      "ket 1\n",
      " [[0]\n",
      " [1]]\n"
     ]
    }
   ],
   "source": [
    "#Tehtävä 2, ohjelmoi tähän\n",
    "import numpy as np\n",
    "zero = np.matrix([[1], [0]])\n",
    "one = np.matrix([[0], [1]])\n",
    "#ket00 = np.kron(zero,zero)\n",
    "print(\"ket 0\\n\",zero)\n",
    "print(\"ket 1\\n\",one)\n",
    "#print(\"ket00\\n\",ket00)\n",
    "\n"
   ]
  },
  {
   "attachments": {},
   "cell_type": "markdown",
   "id": "17e09986",
   "metadata": {},
   "source": [
    "## Tehtävä 3\n",
    "\n",
    "$\\mathit{CNOT}$-portin operoidessa ensimmäinen qubitti on ns. ohjaava kubitti (control qubi1t), ja jälkimmäinen on kohdekubitti (target qubit). $\\mathit{CNOT}$ vaikuttaa koko systeemin tilaan seuraavasti:\n",
    "\n",
    "$$\n",
    "\\ket{00} \\rightarrow  \\ket{00}   \\\\\n",
    "\\ket{01} \\rightarrow  \\ket{01}   \\\\\n",
    "\\ket{10} \\rightarrow  \\ket{11}   \\\\\n",
    "\\ket{11} \\rightarrow  \\ket{10}   \\\\\n",
    "$$\n",
    "\n",
    "Tulos tarkoittaa, että jos ensimmäinen, ns. ohjaava kubitti on $0$, niin kohdekubitin tila ei muutu. Jos ohjaavakubitti $1$, niin kohdekubitin tila muuttuu. \n",
    "\n",
    "$\\mathit{CNOT}$-portin matriisiesitys on seuraava:\n",
    "\n",
    "$$\n",
    "\\mathit{CNOT} = \\begin{pmatrix} 1 & 0 & 0 & 0 \\\\ 0 & 1 & 0 & 0 \\\\ 0 & 0 & 0 & 1 \\\\ 0 & 0 & 1 & 0\\end{pmatrix} \n",
    "$$\n",
    "\n",
    "Huomaa, että vaikka matriisia merkitään monella kirjaimella, se ei ole monen matriisin tulo.\n",
    "\n",
    "Piirrosmerkki, jossa ylempänä esitetty kubitti on ohjaava, ja alempi toimii kohteena:\n",
    "\n",
    "![cnot](images/cnot.png)\n",
    "\n",
    "a) Laske CNOT-matriisin ja 2 kubitin tilaa kuvaavan pystyvektorin tulo, ja osoita että \n",
    "\n",
    "$$\n",
    "\\ket{01} \\rightarrow  \\ket{01} \\text{eli laske tulo  } \\mathit{CNOT} \\ket{01}  \\\\\n",
    "\\ket{10} \\rightarrow  \\ket{11}  \\text{eli laske tulo  } \\mathit{CNOT} \\ket{10} \\\\\n",
    "$$\n",
    "\n",
    "\n",
    "<a href=\"https://youtu.be/rLF-oHaXLtE\" target=\"_blank\">ohjevideo CNOT-portin toiminnasta</a>"
   ]
  },
  {
   "cell_type": "code",
   "execution_count": null,
   "id": "01d2bb17",
   "metadata": {},
   "outputs": [],
   "source": [
    "# Ohjelmoi pythonilla tähän\n",
    "import numpy as np\n",
    "\n",
    "CNOT =  np.matrix([[1,0, 0,0],[0, 1, 0,0], [0, 0, 0,1], [0, 0, 1,0]])\n",
    "print(\"CNOT\\n\",CNOT)\n",
    "\n",
    "# määritellään pystyvektorina kubitin kvanttitila |00>:\n",
    "q00 = np.matrix([[1],[0],[0],[0]])\n",
    "print(\"ket00\\n\",q00)\n",
    "\n",
    "# määritellään pystyvektorina kubitin kvanttitila |01>:\n",
    "q01 = np.matrix([[0],[1],[0],[0]])\n",
    "print(\"ke01\\n\",q01)\n",
    "# |10>\n",
    "q10 = np.matrix([[0],[0],[1],[0]])\n",
    "#print(\"ke10\\n\",q10)\n",
    "\n",
    "# |11>\n",
    "\n",
    "q11 = np.matrix([[0],[0],[0],[1]])\n",
    "#print(\"ke11\\n\",q11)\n",
    "# matriisin ja pystyvektorin tulo numpyssä on * tai @ merkki\n",
    "# laske tulot tähän\n"
   ]
  },
  {
   "attachments": {},
   "cell_type": "markdown",
   "id": "87f9ff40",
   "metadata": {},
   "source": [
    "## Tehtävän 4: Bellin tilat ja niiden ket-vektoriesitys\n",
    "\n",
    "__Johdanto__\n",
    "\n",
    "Tehtävässä 4 tarkastellaan vielä kertauksena yksinkertaista kvanttipiiriä, jota käytetään Bellin parin luomiseen. Bellin pari kubaa kahden kubitin välistä lomittumista eli kytkentää. Samalla tavoitteena on myös tutustua syvemmin ket-notaation käyttöön kvanttitilan kuvauksessa.\n",
    "\n",
    "![bell_state](images/bell_state.png)\n",
    "\n",
    "Kuvan piirissä molemmat kubitit ovat alussa tilassa $\\ket 0$. Tämän jälkeen 1. kubittiin operoidaan H-portilla, ja kubitit 1 ja 2 lomitetaan CNOT-portilla. 1. kubitti on tällöin ohjaava kubitti, ja 2. kobitti on kohde. \n",
    "\n",
    "Kuvataan ensin kahden kubitin kvanttipiirin tila $H$-portin jälkeen. 1. kubitti on tilojen superpositiossa ja 2. kubitti on edelleen tilassa $\\ket 0$:\n",
    "\n",
    "$$\n",
    "\\frac{1}{\\sqrt 2} (\\ket 0 +  \\ket 1) \\otimes \\ket 0\n",
    "$$\n",
    "\n",
    "Laskemalla tilojen tensoritulon saadaan kahden kubitin systeemin tila esitettyä muodossa\n",
    "\n",
    "\n",
    "$$\n",
    "\\frac{1}{\\sqrt 2} (\\ket 0 \\ket 0 +  \\ket 1 \\ket 0) = \\frac{1}{\\sqrt 2}(\\ket{00}+\\ket{10}).\n",
    "$$\n",
    "\n",
    "Seuraavaksi esitetään, miten CNOT-portti vaikuttaa kahden kubitin systeemissä. Jos ohjaavan ensimmäisen kubitin tila on 1, niin kohdekubitin eli jälkimmäisen kubitin tila kääntyy:\n",
    "\n",
    "$$\n",
    "\\frac{1}{\\sqrt 2}(\\ket{00}+\\ket{10}) \\xrightarrow{\\text{CNOT}}\\frac{1}{\\sqrt 2}(\\ket{00}+\\ket{11})\n",
    "$$\n",
    "\n",
    "Tätä lopputilaa kutsutaan Bellin $\\ket {\\phi^+}$ tilaksi. Eli Bellin $\\ket {\\phi^+}$ tila määritellään seuraavasti:\n",
    "\n",
    "$$\\ket {\\phi^+}=\\frac{1}{\\sqrt 2}(\\ket{00}+\\ket{11}$$\n",
    "\n",
    "### ket-vektoriesitys:\n",
    "__Tehtävä 4A)__ Ohjelmoi piirin toiminta kubittien alkuarvoilla $\\ket 1$ ja $\\ket 0$.  Alla on esitetty piirin toiminta ket-notaation avulla. \n",
    "\n",
    "![bell_state](images/another_bell_state.png)\n",
    "\n",
    "Ohje: Muista 2. kierroksen tehtävien tulos, kuinka Hadamard-porttilla operointi vaikuttaa tilaan $\\ket 1$, eli $H\\ket 1 = \\frac{1}{\\sqrt 2} (\\ket 0 - \\ket 1)$.\n",
    "\n",
    "a-kohta:\n",
    "\n",
    "$H\\ket 1 \\otimes \\ket 0 = \\frac{1}{\\sqrt 2} (\\ket 0 - \\ket 1) \\otimes \\ket 0$.\n",
    "\n",
    "\n",
    "$$\n",
    "\\frac{1}{\\sqrt 2}(\\ket{00}-\\ket{10}) \\xrightarrow{\\text{CNOT}}\\frac{1}{\\sqrt 2}(\\ket{00}-\\ket{11})\n",
    "$$\n",
    "\n",
    "\n",
    "\n",
    "\n",
    "\n"
   ]
  },
  {
   "cell_type": "code",
   "execution_count": 2,
   "id": "4c1b73cb",
   "metadata": {},
   "outputs": [
    {
     "data": {
      "image/png": "[encoded data removed]",
      "text/plain": [
       "<Figure size 267.052x144.48 with 1 Axes>"
      ]
     },
     "execution_count": 2,
     "metadata": {},
     "output_type": "execute_result"
    }
   ],
   "source": [
    "# Tehtävä 4A tähän\n",
    "# Testi\n",
    "circuit=QuantumCircuit(2)\n",
    "circuit.x(0)\n",
    "circuit.h(0)\n",
    "circuit.cx(0,1)\n",
    "circuit.draw(output='mpl')"
   ]
  },
  {
   "cell_type": "code",
   "execution_count": 3,
   "id": "519c2a40",
   "metadata": {},
   "outputs": [
    {
     "data": {
      "image/png": "[encoded data removed]",
      "text/plain": [
       "<Figure size 504x360 with 1 Axes>"
      ]
     },
     "execution_count": 3,
     "metadata": {},
     "output_type": "execute_result"
    }
   ],
   "source": [
    "# mitataan\n",
    "circuit.measure_all()\n",
    "# Simuloidaan piirin toiminta.\n",
    "simulator = Aer.get_backend('qasm_simulator')\n",
    "execute(circuit, backend=simulator)\n",
    "result = execute(circuit, backend=simulator).result()\n",
    "from qiskit.tools.visualization import plot_histogram\n",
    "plot_histogram(result.get_counts(circuit))"
   ]
  },
  {
   "cell_type": "code",
   "execution_count": 74,
   "id": "a1e7df6b",
   "metadata": {},
   "outputs": [
    {
     "name": "stdout",
     "output_type": "stream",
     "text": [
      "H*ket 1\n",
      " [[ 0.70710678]\n",
      " [-0.70710678]]\n",
      "tensoritulo H ket 1 ja ket 0\n",
      " [[ 0.70710678]\n",
      " [ 0.        ]\n",
      " [-0.70710678]\n",
      " [-0.        ]]\n",
      "CNOT\n",
      " [[ 0.70710678]\n",
      " [ 0.        ]\n",
      " [ 0.        ]\n",
      " [-0.70710678]]\n"
     ]
    }
   ],
   "source": [
    "# Lasketaan 4A matriisiesityksen avulla\n",
    "\n",
    "# määritellään pystyvektorina kubitin kvanttitila 0:\n",
    "zero = np.matrix([[1],[0]])\n",
    "\n",
    "# määritellään pystyvektorina kubitin kvanttitila 1:\n",
    "one = np.matrix([[0],[1]])\n",
    "\n",
    "# Matriisit X, H ja CNOT\n",
    "X =  np.matrix([[0, 1],[1, 0]])\n",
    "\n",
    "H =  1/np.sqrt(2)*np.matrix([[1, 1],[1, -1]])\n",
    "\n",
    "CNOT =  np.matrix([[1,0, 0,0],[0, 1, 0,0], [0, 0, 0,1], [0, 0, 1,0]])\n",
    "\n",
    "#print(\"X*ket 0 = ket 1\\n\", X*zero)\n",
    "print(\"H*ket 1\\n\",H*one)\n",
    "print(\"tensoritulo H ket 1 ja ket 0\\n\",np.kron((H*one),zero))\n",
    "print(\"CNOT\\n\",CNOT*(np.kron((H*one),zero)))"
   ]
  },
  {
   "attachments": {},
   "cell_type": "markdown",
   "id": "21365082",
   "metadata": {},
   "source": [
    "kertaus, vertaa kantavektoreiden pystyvektoriesitykseen:\n",
    "\n",
    "$$\n",
    "\\ket{00}=\\begin{pmatrix}1 \\\\ 0 \\\\ 0 \\\\0\\end{pmatrix},\\ \\ket{01}=\\begin{pmatrix}0 \\\\ 1 \\\\ 0 \\\\0\\end{pmatrix},\\ \n",
    "\\ket{10}=\\begin{pmatrix}0 \\\\ 0 \\\\ 1 \\\\0\\end{pmatrix},\\ \\ket{11}=\\begin{pmatrix}0 \\\\ 0 \\\\ 0 \\\\1\\end{pmatrix}\n",
    "$$\n",
    "\n",
    "CNOT-operaatio:\n",
    "\n",
    "$$\n",
    "\\frac{1}{\\sqrt 2}(\\ket{00}-\\ket{10}) \\xrightarrow{\\text{CNOT}}\\frac{1}{\\sqrt 2}(\\ket{00}-\\ket{11})\n",
    "$$"
   ]
  },
  {
   "attachments": {},
   "cell_type": "markdown",
   "id": "3bb29c85",
   "metadata": {},
   "source": [
    "B) Laske piirin toiminta myös kubittien alkuarvoilla $\\ket 0$ ja $\\ket 1$. Eli simuloi alla kuvattu piirin toiminta:\n",
    "\n",
    "$H\\ket 0 \\otimes \\ket 1 = \\frac{1}{\\sqrt 2} (\\ket 0 + \\ket 1) \\otimes \\ket 1$.\n",
    "\n",
    "\n",
    "$$\n",
    "\\frac{1}{\\sqrt 2}(\\ket{01}+\\ket{11}) \\xrightarrow{\\text{CNOT}}\\frac{1}{\\sqrt 2}(\\ket{01}+\\ket{10})\n",
    "$$\n",
    "\n"
   ]
  },
  {
   "cell_type": "code",
   "execution_count": null,
   "id": "36d7a258",
   "metadata": {},
   "outputs": [],
   "source": [
    "# TEhtävä 4B"
   ]
  },
  {
   "attachments": {},
   "cell_type": "markdown",
   "id": "ba52595b",
   "metadata": {},
   "source": [
    "C) Ohjelmoi piirin toiminta myös kubittien alkuarvoilla $\\ket 1$ ja $\\ket 1$.\n",
    "\n",
    "$H\\ket 1 \\otimes \\ket 1 = \\frac{1}{\\sqrt 2} (\\ket 0 - \\ket 1) \\otimes \\ket 1$.\n",
    "\n",
    "\n",
    "$$\n",
    "\\frac{1}{\\sqrt 2}(\\ket{01}-\\ket{11}) \\xrightarrow{\\text{CNOT}}\\frac{1}{\\sqrt 2}(\\ket{01}-\\ket{10})\n",
    "$$"
   ]
  },
  {
   "cell_type": "code",
   "execution_count": null,
   "id": "1e47f18f",
   "metadata": {},
   "outputs": [],
   "source": [
    "#Tehtävä 4C"
   ]
  },
  {
   "attachments": {},
   "cell_type": "markdown",
   "id": "f43df496",
   "metadata": {},
   "source": [
    "**LISÄTIETOJA: TEHTÄVÄN 4 RATKAISUT:**\n",
    "\n",
    "\n",
    "Tehtävän A- ja B-kohdan ratkaisut ovat ns. Bellin tiloja, jotka määritellään seuraavasti:\n",
    "\n",
    "**A:** Kun alkuarvot ovat $\\ket 1$ ja $\\ket 0$, niin saadaan $\\ket {\\phi^-}=\\frac{1}{\\sqrt 2}(\\ket{00}-\\ket{11}$\n",
    "\n",
    "**B:**\n",
    "\n",
    "Kun alkuarvot ovat $\\ket 0$ ja $\\ket 1$, niin saadaan $\\ket {\\psi^+}=\\frac{1}{\\sqrt 2}(\\ket{01}+\\ket{10}$ \n",
    "\n",
    "Kun alkuarvot ovat $\\ket 1$ ja $\\ket 1$, niin saadaan $\\ket {\\psi^-}=\\frac{1}{\\sqrt 2}(\\ket{01}-\\ket{10}$\n",
    "\n",
    "\n",
    "Vektorit $\\ket {\\phi^+}$ ja $\\ket {\\phi^-}$ sekä $\\ket {\\psi^+}$ ja $\\ket {\\psi^-}$ ovat ns. ortonormaaleja Bellin kantavektoreita, joita voidaan käyttää kvanttipiirin tilan kuvauksessa. Kun Bellin kantavektorit laskettiin kahden kubitin alkutiloista suoritetiin ns. kannanvaihto. H- ja CNOT-porttien avulla toteutettu kannanvaihto on unitaarinen, koska käytetyt portit ovat unitaarisia. Oikeastaan kaikki ortonormaalien kantojen väliset kannanvaihto-operaattorit ovat unitaarisia.\n"
   ]
  },
  {
   "attachments": {},
   "cell_type": "markdown",
   "id": "ea77ce82",
   "metadata": {},
   "source": [
    "Ket-esityksestä on laskettuja esimerkkejä myös\n",
    "<a href=\"https://drive.google.com/file/d/1A5xidy-xW8RGwCBWUCI45x4nAXU3vhdT/view?usp=sharing\" target=\"_blank\">\n",
    "tässä tiedostossa.</a>"
   ]
  },
  {
   "cell_type": "code",
   "execution_count": null,
   "id": "69ef3d7e",
   "metadata": {},
   "outputs": [
    {
     "data": {
      "image/png": "[encoded data removed]",
      "text/plain": [
       "<Figure size 267.052x144.48 with 1 Axes>"
      ]
     },
     "execution_count": 40,
     "metadata": {},
     "output_type": "execute_result"
    }
   ],
   "source": [
    "circuit =QuantumCircuit(2)\n",
    "circuit.x(0)\n",
    "circuit.h(0)\n",
    "circuit.cx(0,1)\n",
    "circuit.draw(output='mpl')"
   ]
  },
  {
   "attachments": {},
   "cell_type": "markdown",
   "id": "2e4d53b4",
   "metadata": {},
   "source": [
    "## Tehtävä 5\n",
    "Y-portti vastaa kubitin tilavektorin kiertoa Blochin pallolla $180^o$ y-akselin ympäri . Y-portin matriisiesitys on seuraava:\n",
    "\n",
    "$$\n",
    "Y=\\begin{pmatrix} 0 & -i \\\\ i & 0\\end{pmatrix}\n",
    "$$\n",
    "\n",
    "Merkintä $i$ on kompleksilukuihin liittyvä imaginaariyksikkö, jolle on voimassa $i^2 = -1$. \n",
    "<a href=\"http://math.tkk.fi/opetus/p3/04/L/L1printit.pdf\" target=\"_blank\">Lisätietoa kompleksiluvuista.</a>\n",
    "\n",
    "Vastaavasti Z-portti vastaa kubitin tilavektorin kiertoa Blochin  $180^o$ kiertoa z-akselin ympäri. Z-portin matriisiesitys on seuraava:\n",
    "\n",
    "$$\n",
    "Z=\\begin{pmatrix}1 & 0 \\\\ 0 & -1\\end{pmatrix}\n",
    "$$\n",
    "\n",
    "__Tehtävä 5A)__ Tutki <a href=\"https://bloch.ollpu.fi/\" target=\"_blank\">havainnollistavan simulaation</a> avulla miten alkutilassa $\\ket 0$ oleva tilavektori  kierttyy X, Y, Z porttien vaikutuksesta Blochin pallolla x,y,z-akselien ympäri.\n",
    "\n",
    "__Tehtävä 5B)__ Ratkaise-kohdan simulaation avulla: Jos kubitin alkutila on $\\ket 0$, niin mikä on kubitin lopputila seuraavien porttien operaatioiden eli kiertojen jälkeen? Kiinnitä huomiota minkä akselin ympäri portti kiertää kubittia, ja vaikuttaako kyseinen kierto kubitin tilaan?\n",
    "![kubit_xyz.png](images/kubit_xyz.png)"
   ]
  },
  {
   "attachments": {},
   "cell_type": "markdown",
   "id": "00c4b7da",
   "metadata": {},
   "source": [
    "__Tehtävä 5C)__  Tutki <a href=\"https://bloch.ollpu.fi/\" target=\"_blank\">havainnollistavan simulaation</a> avulla : Jos yhden kubitin kvanttipiriissä kubitin alkutila on $\\ket 0$, niin mikä on kubitin lopputila seuraavien operaatioiden eli kiertojen jälkeen $HZH$?\n",
    "\n",
    "Millä yhdellä portilla operaatio $HZH$ voidaan korvata?\n",
    "\n",
    "__Tehtävä 5D)__ Pythonissa matriisin Y käänteismatriisin voi laskea komennolla `np.linalg.inv(Y)`. Tulosta matriisi Y ja sen käänteismatriisi.\n",
    " \n",
    "Osoita laskemalla pythonilla matriisien tulo, että $YY=I$, missä $I$ on yksikkömatriisi. Tämä tarkoittaa jälleen, että $Y$ on itsensä käänteismatriisi. Kaksi Y-portin operaatiota kiertää kubitin tilavektorin takaisin alkuperäiseen tilaan."
   ]
  },
  {
   "cell_type": "code",
   "execution_count": null,
   "id": "9c6d2822",
   "metadata": {},
   "outputs": [],
   "source": [
    "# Tehtävä 5D\n",
    "Y = np.matrix([[0,-1j],[1j,0]])\n",
    "print(\"Y Matriisi:\\n\",Y)\n",
    "#print(\"Y Matriisin käänteismatriisi:\\n\")\n",
    "#print(\"tulo YY:\")\n"
   ]
  },
  {
   "attachments": {},
   "cell_type": "markdown",
   "id": "da8a6bb1",
   "metadata": {},
   "source": [
    "## Tehtävä 6 SWAP\n",
    "SWAP-portin avulla voidaan vaihtaa kahden kubitin tilat keskenään. \n",
    "\n",
    "Kahden kubitin kvanttipiirin 1.kubitin alkutila on 1 ja 2.kubitin alkutila 0."
   ]
  },
  {
   "cell_type": "code",
   "execution_count": 104,
   "id": "0c0c77a4",
   "metadata": {},
   "outputs": [
    {
     "data": {
      "image/png": "[encoded data removed]",
      "text/plain": [
       "<Figure size 206.852x144.48 with 1 Axes>"
      ]
     },
     "metadata": {},
     "output_type": "display_data"
    }
   ],
   "source": [
    "\n",
    "qc = QuantumCircuit(2)\n",
    "qc.x(0)\n",
    "# swap kubittien 0 ja 1 välillä\n",
    "qc.swap(0,1)\n",
    "display(qc.draw(output='mpl'))\n"
   ]
  },
  {
   "cell_type": "code",
   "execution_count": 105,
   "id": "587dffdb",
   "metadata": {},
   "outputs": [
    {
     "data": {
      "image/png": "[encoded data removed]",
      "text/plain": [
       "<Figure size 504x360 with 1 Axes>"
      ]
     },
     "execution_count": 105,
     "metadata": {},
     "output_type": "execute_result"
    }
   ],
   "source": [
    "qc.measure_all()\n",
    "# Simuloidaan piirin toiminta.\n",
    "simulator = Aer.get_backend('qasm_simulator')\n",
    "execute(qc, backend=simulator)\n",
    "result = execute(qc, backend=simulator).result()\n",
    "from qiskit.tools.visualization import plot_histogram\n",
    "plot_histogram(result.get_counts(qc))"
   ]
  },
  {
   "attachments": {},
   "cell_type": "markdown",
   "id": "7f497ded",
   "metadata": {},
   "source": [
    "SWAP-operaation jälkeen 1.kubitti on tilassa 0 ja 2.kubitti tilassa 1.\n",
    "\n",
    "Operaatio voidaan toteuttaa CNOT-porttien avulla seuraavasti."
   ]
  },
  {
   "cell_type": "code",
   "execution_count": 109,
   "id": "865fdf00",
   "metadata": {},
   "outputs": [
    {
     "data": {
      "image/png": "[encoded data removed]",
      "text/plain": [
       "<Figure size 267.052x144.48 with 1 Axes>"
      ]
     },
     "execution_count": 109,
     "metadata": {},
     "output_type": "execute_result"
    }
   ],
   "source": [
    "qc = QuantumCircuit(2)\n",
    "qc.x(0)\n",
    "# swap \n",
    "qc.cx(0,1) \n",
    "qc.cx(1,0) \n",
    "qc.draw(output='mpl')"
   ]
  },
  {
   "attachments": {},
   "cell_type": "markdown",
   "id": "e41fbdfb",
   "metadata": {},
   "source": [
    "CNOT porttin ohjaava kubitti kääntää kohdekubitin tilan vain koska $q_0$:n alkutila oli 1. \n",
    "\n",
    "Tekemällä CNOT operaatiot käänteisessä järjestyksessä voidaan palata alkutilaan."
   ]
  },
  {
   "cell_type": "code",
   "execution_count": 110,
   "id": "027a77cc",
   "metadata": {},
   "outputs": [
    {
     "data": {
      "image/png": "[encoded data removed]",
      "text/plain": [
       "<Figure size 387.452x144.48 with 1 Axes>"
      ]
     },
     "execution_count": 110,
     "metadata": {},
     "output_type": "execute_result"
    }
   ],
   "source": [
    "# swap \n",
    "qc.cx(1,0) \n",
    "qc.cx(0,1) \n",
    "qc.draw(output='mpl')"
   ]
  },
  {
   "attachments": {},
   "cell_type": "markdown",
   "id": "ccc13d21",
   "metadata": {},
   "source": [
    "Seuraava CNOT porttien yhdistelmä tekee SWAPIN riippumatta vaikka $q_0$:n alkutilasta. "
   ]
  },
  {
   "cell_type": "code",
   "execution_count": 112,
   "id": "1bb7da06",
   "metadata": {},
   "outputs": [
    {
     "data": {
      "image/png": "[encoded data removed]",
      "text/plain": [
       "<Figure size 327.252x144.48 with 1 Axes>"
      ]
     },
     "execution_count": 112,
     "metadata": {},
     "output_type": "execute_result"
    }
   ],
   "source": [
    "qc = QuantumCircuit(2)\n",
    "# q0 on tilassa 0 ja q1 tilassa 1\n",
    "qc.x(1)\n",
    "qc.cx(0,1)\n",
    "qc.cx(1,0)\n",
    "qc.cx(0,1)\n",
    "qc.draw(output='mpl')"
   ]
  },
  {
   "attachments": {},
   "cell_type": "markdown",
   "id": "db74aede",
   "metadata": {},
   "source": [
    "SWAP-portin matriisiesitys:\n",
    "\n",
    "$$\n",
    "\\begin{split}SWAP =\n",
    "    \\begin{pmatrix}\n",
    "        1 & 0 & 0 & 0 \\\\\n",
    "        0 & 0 & 1 & 0 \\\\\n",
    "        0 & 1 & 0 & 0 \\\\\n",
    "        0 & 0 & 0 & 1\n",
    "    \\end{pmatrix}\\end{split}\n",
    "$$\n",
    "\n",
    "ket-esitys:\n",
    "\n",
    "$$\n",
    "|a b\\rangle \\rightarrow |b a\\rangle\n",
    "$$\n",
    "\n",
    "__Tehtävä 6__ Laske matriisiesityksessä SWAP operaatio tilaan $\\ket {01}$"
   ]
  },
  {
   "cell_type": "code",
   "execution_count": 114,
   "id": "6e21ee15",
   "metadata": {},
   "outputs": [
    {
     "name": "stdout",
     "output_type": "stream",
     "text": [
      "ket 01\n",
      " [[0]\n",
      " [1]\n",
      " [0]\n",
      " [0]]\n"
     ]
    }
   ],
   "source": [
    "q01 = np.matrix([[0],[1],[0],[0]])\n",
    "\n",
    "SWAP =  np.matrix([[1,0, 0,0],[0, 0, 1,0], [0, 1, 0,0], [0, 0, 0,1]])\n",
    "\n",
    "print(\"ket 01\\n\",q01)\n"
   ]
  },
  {
   "attachments": {},
   "cell_type": "markdown",
   "id": "4de0665a",
   "metadata": {},
   "source": [
    "## Tehtävä 7: Conditional-phase gate eli ehdollinen cz-vaiheporttti kahden kubitin systeemissä\n",
    "\n",
    "Toiminta: cz-portti flippaa kohdekubitin (target) vain jos ohjaavakubitti (control) on tilassa $\\ket 1$. CZ-portti on symmetrinen, eli kumpitahansa qubiteista voi toimia kontrollikubittina. Vaiheen voi ajatella kubitin tilavektorin asentona Blochin pallolla.\n",
    "\n",
    "\n",
    "$\\mathit{CZ}$-portin matriisiesitys on seuraava:\n",
    "\n",
    "$$\n",
    "\\mathit{CZ} = \\begin{pmatrix} 1 & 0 & 0 & 0 \\\\ 0 & 1 & 0 & 0\\\\ 0 & 0 & 1 & 0 \\\\ 0 & 0 & 0 & -1\\end{pmatrix} \n",
    "$$\n",
    "\n",
    "\n",
    "Piirrosmerkki,josta näkyy symmetrisyys.\n",
    "\n",
    "![cz-piirrosmerkki](images/cz-piirrosmerkki.png)\n",
    "\n",
    "Alla on toteuttettu CZ-portti käyttmällä H-porttia ja CNOT-porttia. Ohjelma tulostaa piirin sekä CZ-portin matriisiesityksen."
   ]
  },
  {
   "cell_type": "code",
   "execution_count": 33,
   "id": "fc426537",
   "metadata": {},
   "outputs": [
    {
     "data": {
      "image/png": "[encoded data removed]",
      "text/plain": [
       "<Figure size 267.052x144.48 with 1 Axes>"
      ]
     },
     "metadata": {},
     "output_type": "display_data"
    },
    {
     "data": {
      "text/latex": [
       "$$\n",
       "\n",
       "\\begin{bmatrix}\n",
       "1 & 0 & 0 & 0  \\\\\n",
       " 0 & 1 & 0 & 0  \\\\\n",
       " 0 & 0 & 1 & 0  \\\\\n",
       " 0 & 0 & 0 & -1  \\\\\n",
       " \\end{bmatrix}\n",
       "$$"
      ],
      "text/plain": [
       "<IPython.core.display.Latex object>"
      ]
     },
     "metadata": {},
     "output_type": "display_data"
    }
   ],
   "source": [
    "# Johdanto tehtävään 2\n",
    "\n",
    "from qiskit import *\n",
    "from qiskit.visualization import *\n",
    "backend = Aer.get_backend('unitary_simulator')\n",
    "\n",
    "qc = QuantumCircuit(2)\n",
    "\n",
    "qc.h(1)\n",
    "qc.cx(0, 1)\n",
    "qc.h(1)\n",
    "\n",
    "matriisi = backend.run(qc).result().get_unitary(qc, decimals=3)\n",
    "display(qc.draw(output='mpl'), array_to_latex(matriisi))"
   ]
  },
  {
   "attachments": {},
   "cell_type": "markdown",
   "id": "171bef4e",
   "metadata": {},
   "source": [
    "__Tehtävä 7__\n",
    "\n",
    "Ohjelmoi yllä olevan esimerkin avulla kuvassa esitetty kvanttipiiri ja sen matriisiesitys.\n",
    "\n",
    "![cz.PNG](images/cz.PNG)"
   ]
  },
  {
   "cell_type": "code",
   "execution_count": null,
   "id": "49a62f48",
   "metadata": {},
   "outputs": [],
   "source": [
    "# Ohjelmoi Tehtävä 7 tähän"
   ]
  },
  {
   "attachments": {},
   "cell_type": "markdown",
   "id": "b5b29aaa",
   "metadata": {},
   "source": [
    "## Tehtävä 8: Ohjelmoi seuraava kvanttipiiri, ja simuloi se.\n",
    "![Tehtävä:](images/qc.png)"
   ]
  },
  {
   "cell_type": "code",
   "execution_count": null,
   "id": "6e524e44",
   "metadata": {},
   "outputs": [],
   "source": [
    "# Tehtävä\n",
    "qc = QuantumCircuit(2)\n",
    "\n",
    "# Ohjelmoi tähän kuvan kvanttipiiri\n",
    "\n",
    "qc.measure_all()\n",
    "qc.draw(output='mpl')"
   ]
  },
  {
   "cell_type": "code",
   "execution_count": null,
   "id": "75bc0833",
   "metadata": {},
   "outputs": [],
   "source": [
    "backend = Aer.get_backend('aer_simulator')\n",
    "plot_histogram(backend.run(qc).result().get_counts())"
   ]
  },
  {
   "attachments": {},
   "cell_type": "markdown",
   "id": "004f809f",
   "metadata": {},
   "source": [
    "## Tehtävä 9 kvanttinoppa lukujen 1 -6 arvontaan\n",
    "\n",
    "Lue artikkeli kvanttinoppa ja erityisesti miten nopan silmäluvut 1- 6 voidaan ohjelmoida kolmen kubitin kvanttipiiriin kvanttialgoritmilla.\n",
    "\n",
    "<a href=\"https://www.lukemaverkosto.fi/materiaali/microbit-kvanttinoppa/\" target =\"_blank\"> Microbit kvanttinoppa</a>\n",
    "\n",
    "Artikkelin alussa oleva helppo esimerkki on lämmittelyä. Perehdy R-kiertoportilla toteutettuun versioon."
   ]
  },
  {
   "cell_type": "code",
   "execution_count": 78,
   "id": "d4f9a368",
   "metadata": {},
   "outputs": [
    {
     "data": {
      "image/png": "[encoded data removed]",
      "text/plain": [
       "<Figure size 507.997x264.88 with 1 Axes>"
      ]
     },
     "execution_count": 78,
     "metadata": {},
     "output_type": "execute_result"
    }
   ],
   "source": [
    "import math\n",
    "dice_circuit =QuantumCircuit(3,3)\n",
    "# Käännetään kubittia kohdassa 2 sopivan määrän, jotta \n",
    "# saadaan 1 todennäköisyydellä 2/3\n",
    "# Matematiikka luvun taustalla löytyy artikkelista\n",
    "dice_circuit.ry(2 * math.asin(math.sqrt(2/3)), 2)\n",
    "\n",
    "dice_circuit.ch(2, 1)\n",
    "dice_circuit.x(2)\n",
    "dice_circuit.h(0)\n",
    "\n",
    "dice_circuit.barrier()\n",
    "dice_circuit.measure([0,1,2],[0,1,2])\n",
    "dice_circuit.draw(output=\"mpl\")"
   ]
  },
  {
   "cell_type": "code",
   "execution_count": 79,
   "id": "300d512c",
   "metadata": {},
   "outputs": [
    {
     "data": {
      "image/png": "[encoded data removed]",
      "text/plain": [
       "<Figure size 504x360 with 1 Axes>"
      ]
     },
     "execution_count": 79,
     "metadata": {},
     "output_type": "execute_result"
    }
   ],
   "source": [
    "# käytetään simulaattoria, eli ei ajeta ohjelmaa oikealla kvanttitietokoneella\n",
    "computer = Aer.get_backend(\"qasm_simulator\")\n",
    "r = execute(dice_circuit, computer).result()\n",
    "plot_histogram(r.get_counts())"
   ]
  }
 ],
 "metadata": {
  "kernelspec": {
   "display_name": "base",
   "language": "python",
   "name": "python3"
  },
  "language_info": {
   "codemirror_mode": {
    "name": "ipython",
    "version": 3
   },
   "file_extension": ".py",
   "mimetype": "text/x-python",
   "name": "python",
   "nbconvert_exporter": "python",
   "pygments_lexer": "ipython3",
   "version": "3.9.7 (default, Sep 16 2021, 13:09:58) \n[GCC 7.5.0]"
  },
  "vscode": {
   "interpreter": {
    "hash": "a788fe5bb4624eda3efab07cda06d2e5c5ff2cfbcc89f130aea1d34af0864ad5"
   }
  }
 },
 "nbformat": 4,
 "nbformat_minor": 5
}

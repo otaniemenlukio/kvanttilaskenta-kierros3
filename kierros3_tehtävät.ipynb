{
 "cells": [
  {
   "cell_type": "markdown",
   "id": "ce726363",
   "metadata": {},
   "source": [
    "## Tehtävä 1\n",
    "\n",
    "$$\\renewcommand{\\ket}[1]{\\left|{#1}\\right\\rangle}$$\n",
    "$$\\renewcommand{\\bra}[1]{\\left\\langle{#1}\\right|}$$\n",
    "\n",
    "Tehtävät 1 - 4 käsittelivät yhden kubitin systeemiä. Seuraavassa kahdessa tehtävässä tarkastelemme controlled NOT -porttia ($\\mathit{CNOT}$), joka on kahden kubitin välinen operaatio. Kahden kubitin kvanttipiirissä systeemin tila esitetään seuraavilla kantavektoreilla:\n",
    "\n",
    "$$\n",
    "\\ket{00},\\ \\ket{01},\\ \\ket{10},\\ \\ket{11}, \n",
    "$$\n",
    "\n",
    "missä \n",
    "\n",
    "$$\n",
    "\\ket{00}=\\pmatrix{1 \\\\ 0 \\\\ 0 \\\\0},\\ \\ket{01}=\\pmatrix{0 \\\\ 1 \\\\ 0 \\\\0},\\ \n",
    "\\ket{10}=\\pmatrix{0 \\\\ 0 \\\\ 1 \\\\0},\\ \\ket{11}=\\pmatrix{0 \\\\ 0 \\\\ 0 \\\\1}.\n",
    "$$\n",
    "\n",
    "$\\mathit{CNOT}$-portin operoidessa ensimmäinen qubitti on ns. ohjaava kubitti (control qubi1t), ja jälkimmäinen on kohdekubitti (target qubit). $\\mathit{CNOT}$ vaikuttaa koko systeemin tilaan seuraavasti:\n",
    "\n",
    "$$\n",
    "\\ket{00} \\rightarrow  \\ket{00}   \\\\\n",
    "\\ket{01} \\rightarrow  \\ket{01}   \\\\\n",
    "\\ket{10} \\rightarrow  \\ket{11}   \\\\\n",
    "\\ket{11} \\rightarrow  \\ket{10}   \\\\\n",
    "$$\n",
    "\n",
    "Tulos tarkoittaa, että jos ensimmäinen, ns. ohjaava kubitti on $0$, niin kohdekubitin tila ei muutu. Jos ohjaavakubitti $1$, niin kohdekubitin tila muuttuu. \n",
    "\n",
    "$\\mathit{CNOT}$-portin matriisiesitys on seuraava:\n",
    "\n",
    "$$\n",
    "\\mathit{CNOT} = \\pmatrix {1 & 0 & 0 & 0 \\\\ 0 & 1 & 0 & 0\\\\ 0 & 0 & 0 & 1 \\\\ 0 & 0 & 1 & 0} \n",
    "$$\n",
    "\n",
    "Huomaa, että vaikka matriisia merkitään monella kirjaimella, se ei ole monen matriisin tulo.\n",
    "\n",
    "Piirrosmerkki, jossa ylempänä esitetty kubitti on ohjaava, ja alempi toimii kohteena:\n",
    "\n",
    "![cnot](https://ollpu.fi/kvanttilaskenta-static/cnot.png)\n",
    "\n",
    "a) Laske CNOT-matriisin ja 2 kubitin tilaa kuvaavan pystyvektorin tulo, ja osoita että \n",
    "\n",
    "$$\n",
    "\\ket{01} \\rightarrow  \\ket{01} \\text{eli laske tulo  } \\mathit{CNOT} \\ket{01}  \\\\\n",
    "\\ket{10} \\rightarrow  \\ket{11}  \\text{eli laske tulo  } \\mathit{CNOT} \\ket{10} \\\\\n",
    "$$\n",
    "\n",
    "\n",
    "<a href=\"https://youtu.be/rLF-oHaXLtE\" target=\"_blank\">ohjevideo CNOT-portin toiminnasta</a>\n"
   ]
  },
  {
   "attachments": {},
   "cell_type": "markdown",
   "id": "16af1c04",
   "metadata": {},
   "source": [
    "1)  Usemman kubitin piiri'\n",
    "\n",
    "2) Tensoritulo\n",
    "\n",
    "3) Cnot \n",
    "\n",
    "4) Bellin tilat\n",
    "\n",
    "5) Matriisi\n",
    " Matikkatehtävä:Käänteismatriisi projektio y-portin ja  tulo itsensä \n",
    "   - osoita että Y matriisi on unitaarinen\n",
    "- \n",
    "6) Swap\n",
    "\n",
    "CZ-portti\n",
    "\n",
    "\n",
    "- 7) vikatehtävä kvanttinoppa\n"
   ]
  },
  {
   "cell_type": "code",
   "execution_count": null,
   "id": "42b011a2",
   "metadata": {},
   "outputs": [],
   "source": [
    "# Ohjelmoi pythonilla tähän tai käytä Geogebraa\n",
    "import numpy as np\n",
    "\n",
    "CNOT =  np.matrix([[1,0, 0,0],[0, 1, 0,0], [0, 0, 0,1], [0, 0, 1,0]])\n",
    "\n",
    "# määritellään pystyvektorina kubitin kvanttitila |00>:\n",
    "q00 = np.matrix([[1],[0],[0],[0]])\n",
    "\n",
    "# määritellään pystyvektorina kubitin kvanttitila |01>:\n",
    "q01 = np.matrix([[0],[1],[0],[0]])\n",
    "\n",
    "# |10>\n",
    "q10 = np.matrix([[0],[0],[1],[0]])\n",
    "\n",
    "# |11>\n",
    "\n",
    "q11 = np.matrix([[0],[0],[1],[0]])\n",
    "# matriisin ja pystyvektorin tulo numpyssä on @ merkki"
   ]
  },
  {
   "cell_type": "code",
   "execution_count": null,
   "id": "888fa405",
   "metadata": {},
   "outputs": [],
   "source": [
    "from qiskit import *\n",
    "from qiskit.visualization import *\n",
    "IBMQ.save_account(\"token_tähän\", overwrite=True)\n",
    "provider = IBMQ.load_account()"
   ]
  },
  {
   "cell_type": "code",
   "execution_count": null,
   "id": "bfc62806",
   "metadata": {},
   "outputs": [
    {
     "name": "stdout",
     "output_type": "stream",
     "text": [
      "zsh:1: unknown file attribute: i\r\n"
     ]
    }
   ],
   "source": [
    "## Tehtävä 2: Ohjelmoi seuraava kvanttipiiri, ja simuloi se.\n",
    "![](images/qc.png)"
   ]
  },
  {
   "cell_type": "code",
   "execution_count": null,
   "id": "6e524e44",
   "metadata": {},
   "outputs": [],
   "source": [
    "qc = QuantumCircuit(2)\n",
    "\n",
    "# Ohjelmoi tähän kuvan kvanttipiiri\n",
    "\n",
    "qc.measure_all()\n",
    "qc.draw(output='mpl')"
   ]
  }
 ],
 "metadata": {
  "kernelspec": {
   "display_name": "Python 3 (ipykernel)",
   "language": "python",
   "name": "python3"
  },
  "language_info": {
   "codemirror_mode": {
    "name": "ipython",
    "version": 3
   },
   "file_extension": ".py",
   "mimetype": "text/x-python",
   "name": "python",
   "nbconvert_exporter": "python",
   "pygments_lexer": "ipython3",
   "version": "3.10.0"
  }
 },
 "nbformat": 4,
 "nbformat_minor": 5
}
